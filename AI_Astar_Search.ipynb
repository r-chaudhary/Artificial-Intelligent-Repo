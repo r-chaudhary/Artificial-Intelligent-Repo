{
  "nbformat": 4,
  "nbformat_minor": 0,
  "metadata": {
    "colab": {
      "name": "AI_Astar_Search.ipynb",
      "provenance": [],
      "collapsed_sections": [
        "ME18ct4En26E"
      ],
      "authorship_tag": "ABX9TyP858+/G0JeGYmc5LDc5uYB",
      "include_colab_link": true
    },
    "kernelspec": {
      "name": "python3",
      "display_name": "Python 3"
    }
  },
  "cells": [
    {
      "cell_type": "markdown",
      "metadata": {
        "id": "view-in-github",
        "colab_type": "text"
      },
      "source": [
        "<a href=\"https://colab.research.google.com/github/r-chaudhary/Artificial-Intelligent-Repo/blob/master/AI_Astar_Search.ipynb\" target=\"_parent\"><img src=\"https://colab.research.google.com/assets/colab-badge.svg\" alt=\"Open In Colab\"/></a>"
      ]
    },
    {
      "cell_type": "markdown",
      "metadata": {
        "id": "PHbJUl1mViR-",
        "colab_type": "text"
      },
      "source": [
        "# Ai Practical\n",
        "# A* Search"
      ]
    },
    {
      "cell_type": "markdown",
      "metadata": {
        "id": "ME18ct4En26E",
        "colab_type": "text"
      },
      "source": [
        "## Graph Structure"
      ]
    },
    {
      "cell_type": "code",
      "metadata": {
        "id": "jrZA3JrnnF-n",
        "colab_type": "code",
        "colab": {}
      },
      "source": [
        "class Node:\n",
        "    def __init__(self, name, value=None, state=None, coords=None):\n",
        "        self.name = name\n",
        "        self.value = value\n",
        "        self.state = state\n",
        "        self.coords = coords\n",
        "        self.edges = {}\n",
        "\n",
        "    def __str__(self):\n",
        "        return self.name\n",
        "\n",
        "    def addEdge(self, node, cost=1):\n",
        "        self.edges[node]=  {\"cost\":cost}\n",
        "\n",
        "class Graph:\n",
        "    def __init__(self):\n",
        "        self.nodes = {}\n",
        "        self.graph = dict()\n",
        "\n",
        "    def __len__(self):\n",
        "        return len(self.nodes)\n",
        "\n",
        "    def addNode(self, name, value=None, state=None, coords=None):\n",
        "        # print(\"Node : \",name, value, state, coords)\n",
        "        node = Node( name, value, state, coords)\n",
        "        self.nodes[name] = node\n",
        "\n",
        "    def addEdge(self,from_node, to_node, cost=1):\n",
        "        self.nodes[from_node].addEdge(to_node,cost)"
      ],
      "execution_count": 482,
      "outputs": []
    },
    {
      "cell_type": "markdown",
      "metadata": {
        "id": "N7fdM7I1VuYr",
        "colab_type": "text"
      },
      "source": [
        "## Algorithm"
      ]
    },
    {
      "cell_type": "code",
      "metadata": {
        "id": "MzKr0oGdJaFb",
        "colab_type": "code",
        "colab": {}
      },
      "source": [
        "# A* Search Algorithm \n",
        "\n",
        "def A_star(graph, start, goal, heuristics):\n",
        "\n",
        "    # function of return most nearest cell \n",
        "    def piority_node(node_list):\n",
        "        fscore = node_list[0].fscore\n",
        "        priority = node_list[0]\n",
        "\n",
        "        for node in node_list:\n",
        "            if fscore > node.fscore:\n",
        "                priority = node\n",
        "        # f_score = [{i.fscore:i} for i in node_list]\n",
        "        return priority\n",
        "\n",
        "    # function of return all adjacent nodes\n",
        "    def neighbour(node):\n",
        "        neighbour_list = []\n",
        "        for i in node.edges.keys():\n",
        "            if graph.nodes[i].state == \"free\" or graph.nodes[i].state == \"goal\" :\n",
        "                neighbour_list.append(graph.nodes[i])\n",
        "        return neighbour_list \n",
        "\n",
        "    # function of return shortest\n",
        "    def construct_path(node):\n",
        "        path = []\n",
        "        state = \"goal\"\n",
        "        current_node = node\n",
        "        while True:\n",
        "            parent = graph.nodes[str(current_node.parent)]\n",
        "            state = parent.state\n",
        "            if state == \"start\":\n",
        "                break\n",
        "            parent.state = \"path\"\n",
        "            path.append(str(parent))\n",
        "            current_node = parent\n",
        "        return path\n",
        "            \n",
        "    queue = []                     # Priority Queue\n",
        "    path = []               # Path\n",
        "    discovered = [str(start),]     # dicovered nodes\n",
        "\n",
        "    graph.nodes[start].fscore = 0       # setting start \n",
        "    graph.nodes[start].cost = 0         #\n",
        "    graph.nodes[start].parent =  start  # \n",
        "    graph.nodes[start].heuristics  = heuristics(graph.nodes[start])\n",
        "    queue.append(graph.nodes[start])\n",
        "    success = False\n",
        "    while queue:                    # Till queue is not empty\n",
        "        # Step 1 : Find the nearest node\n",
        "        current_node = piority_node(queue)\n",
        "        queue.remove(current_node)\n",
        "\n",
        "        # Step 2 : Add current node to path\n",
        "        path.append(current_node)\n",
        "\n",
        "        # Step 3 : If current node is not goal and search for goal\n",
        "        #          Find neighbour current node\n",
        "        neighbour_list = neighbour(current_node)\n",
        "\n",
        "\n",
        "        # Step 4 : Find the nearest node to the goal in neighbours\n",
        "\n",
        "        for node in neighbour_list:\n",
        "\n",
        "            # If neighbour node is already discovered skip\n",
        "            if str(node) in discovered:\n",
        "                continue\n",
        "\n",
        "            # Add neighbour node to discoverd\n",
        "            discovered.append(str(node))\n",
        "\n",
        "            # Set parent of the neighbour node to current node\n",
        "            node.parent = str(current_node)\n",
        "\n",
        "            # # If goal found\n",
        "            if str(node) == goal:\n",
        "                node.cost = current_node.cost + current_node.edges[str(node)][\"cost\"]\n",
        "                node.heuristics = heuristics(node)\n",
        "                node.fscore = node.cost + node.heuristics\n",
        "                node.state = \"goal\"\n",
        "                print(\"Path found after steps :\",node.cost)\n",
        "                path.append(node)\n",
        "                success = True\n",
        "                return construct_path(node)\n",
        "            \n",
        "            # Calculate cost heuristics fscore\n",
        "            node.cost = current_node.cost + current_node.edges[str(node)][\"cost\"]\n",
        "            node.heuristics = heuristics(node)\n",
        "            node.fscore = node.cost + node.heuristics\n",
        "\n",
        "            # Condition for valid nodes to path\n",
        "            if current_node.heuristics < node.heuristics + node.cost:\n",
        "\n",
        "                # Add neighbour node to path\n",
        "                node.state=\"traversed\"\n",
        "\n",
        "                # Add neighbours to queue\n",
        "                queue.append(node)\n",
        "\n",
        "    print(\"No Path Found\")\n",
        "\n"
      ],
      "execution_count": 483,
      "outputs": []
    },
    {
      "cell_type": "markdown",
      "metadata": {
        "id": "6Jz1MvN9VsYa",
        "colab_type": "text"
      },
      "source": [
        "## Problem"
      ]
    },
    {
      "cell_type": "code",
      "metadata": {
        "id": "QTA0KihdWU2w",
        "colab_type": "code",
        "colab": {}
      },
      "source": [
        "import numpy as np\n",
        "import sys\n",
        "class Board:\n",
        "    def __init__(self, start=None, goal=None, height=11, width=11):\n",
        "        # Parameters\n",
        "        self.height = height\n",
        "        self.width = width\n",
        "\n",
        "        # Points\n",
        "        self.start_coord = start\n",
        "        self.goal_coord = goal\n",
        "        if self.start_coord == None:\n",
        "            self.start_coord = (height-1,0)\n",
        "        if self.goal_coord == None:\n",
        "            self.goal_coord = (0,width-1)\n",
        "\n",
        "        self.start = None\n",
        "        self.goal = None\n",
        "\n",
        "        # board Board Graph \n",
        "        self.graph = self.draw_board()\n",
        "\n",
        "        # Paths\n",
        "        self.path = None\n",
        "        self.traversed_path = None\n",
        "\n",
        "        # Draw Board\n",
        "        # self.draw()\n",
        "\n",
        "    def draw_board(self):\n",
        "        graph = Graph()\n",
        "\n",
        "        # Adding all nodes\n",
        "        id = 0\n",
        "        for x in range(self.height):\n",
        "            for y in range(self.width):\n",
        "                graph.addNode(str(id),state=\"free\",coords=(x,y))\n",
        "                id += 1\n",
        "\n",
        "        # Blockes detail\n",
        "        def blocks(x,y,height):\n",
        "            block = []\n",
        "            for i in range(height):\n",
        "                b = (x+i,y)\n",
        "                block.append(b)\n",
        "            return block\n",
        "\n",
        "\n",
        "        blockes = []\n",
        "        def draw_blocks():\n",
        "            mid_point = (self.height/2, self.width/2)\n",
        "            half_mid_point = (mid_point[0]/2, mid_point[1]/2)\n",
        "            x = mid_point[0] - half_mid_point[0]\n",
        "            y = mid_point[1]\n",
        "            block = blocks(0,int(y),int(mid_point[0]))\n",
        "            return block\n",
        "\n",
        "        blockes.extend(draw_blocks())\n",
        "        # Connecting all nodes with edges\n",
        "        for node in graph.nodes.values():\n",
        "            # print(node.coords)\n",
        "            x = node.coords[0]\n",
        "            y = node.coords[1]\n",
        "\n",
        "            edge_list = [ (x-1,y), (x,y-1), (x,y+1), (x+1,y), (x-1,y-1), (x+1,y+1), (x-1,y+1), (x+1,y-1),]\n",
        "            # print(\"EDGE LIST : \",edge_list)\n",
        "            graph_add=[]\n",
        "            for i in edge_list:\n",
        "                if i[0] < 0 or i[0] > self.height: # Skipping Invalid connections\n",
        "                    continue\n",
        "                elif i[1] < 0 or i[1] > self.width: # Skipping Invalid connections\n",
        "                    continue\n",
        "                elif i in graph_add:\n",
        "                    continue\n",
        "                else:\n",
        "                    for value in graph.nodes.values():\n",
        "                        if value.coords == i:\n",
        "                            edge = str(value)\n",
        "                            break\n",
        "                    # print(\"EDGE : \",i,edge)\n",
        "                    graph_add.append(edge)\n",
        "                    node.addEdge(edge)\n",
        "            # print(\"GRAPH LIST : \",graph_add)\n",
        "                    \n",
        "\n",
        "            # Adding Blockes\n",
        "            for block in blockes:\n",
        "                if block == node.coords:\n",
        "                    node.state = \"blocked\"\n",
        "\n",
        "            if self.start_coord == node.coords:\n",
        "                node.state = \"start\"\n",
        "                self.start = node.name\n",
        "\n",
        "            if self.goal_coord == node.coords:\n",
        "                node.state = \"goal\"\n",
        "                self.goal = node.name\n",
        "\n",
        "        return graph\n",
        "\n",
        "    def draw(self, result=True):\n",
        "        nodes = np.empty(shape=(self.height,self.width), dtype=\"O\")\n",
        "        for node in self.graph.nodes.values():\n",
        "            coords = node.coords\n",
        "            nodes[coords[0]][coords[1]] = node.state\n",
        "\n",
        "        print(\"\\u2587 {:<15} \\t \\033[{}m\\u2587\\033[00m {:<15}\".format(\"Free Cell\",33,\"Blocked Cell\"))\n",
        "        print(\"\\033[{}m\\u2587\\033[00m {:<15} \\t \\033[{}m\\u2587\\033[00m {:<15}\".format(34,\"Path\",90,\"Traversed \"))\n",
        "        print(\"\\033[{}m\\u2587\\033[00m {:<15} \\t \\033[{}m\\u2587\\033[00m {:<15}\".format(32,\"Start Cell\",31,\"Goal Cell\"))\n",
        "        print()\n",
        "        for x in range(len(nodes)):\n",
        "            for y in range(len(nodes[x])):  \n",
        "                if nodes[x][y] == \"free\":                # Free Cells\n",
        "                        print(\"\\u2587\",end=\" \")\n",
        "                elif nodes[x][y] == \"blocked\":              # Blocked Cells\n",
        "                    print(\"\\033[33m\\u2587\\033[00m\",end=\" \")\n",
        "                elif nodes[x][y] == \"path\":              # Shortest Path Cells\n",
        "                    print(\"\\033[34m\\u2587\\033[00m\",end=\" \")\n",
        "                elif nodes[x][y] == \"traversed\":              # All Path travesed Cells\n",
        "                    print(\"\\033[90m\\u2587\\033[00m\",end=\" \")\n",
        "                elif nodes[x][y] == \"start\":              # Start Cell\n",
        "                    print(\"\\033[32m\\u2587\\033[00m\",end=\" \")\n",
        "                elif nodes[x][y] == \"goal\":              # End Cell\n",
        "                    print(\"\\033[31m\\u2587\\033[00m\",end=\" \")\n",
        "            print()\n",
        "\n"
      ],
      "execution_count": 484,
      "outputs": []
    },
    {
      "cell_type": "markdown",
      "metadata": {
        "id": "lFnMLg5iVyM_",
        "colab_type": "text"
      },
      "source": [
        "## Solution"
      ]
    },
    {
      "cell_type": "code",
      "metadata": {
        "id": "_mIvKFkpWLlu",
        "colab_type": "code",
        "colab": {}
      },
      "source": [
        "# Create a Board ... Simple board\n",
        "board = Board(height = 20, width = 30)"
      ],
      "execution_count": 485,
      "outputs": []
    },
    {
      "cell_type": "code",
      "metadata": {
        "id": "9Rlc1v25wbMU",
        "colab_type": "code",
        "colab": {}
      },
      "source": [
        " def heuristics(board):\n",
        "    # Coordiantes of goal cell \n",
        "    coord = np.array([board.goal_coord[0],board.goal_coord[1]])\n",
        "\n",
        "    # Calculation of heuristics\n",
        "    def generate_heuristics(node):\n",
        "        # Coordinates of goal cell subtrated by current cell\n",
        "        f_score = coord - node.coords\n",
        "        return max(abs(f_score[0]),abs(f_score[1]))\n",
        "    return generate_heuristics"
      ],
      "execution_count": 486,
      "outputs": []
    },
    {
      "cell_type": "code",
      "metadata": {
        "id": "7P1HbkhTqLZ2",
        "colab_type": "code",
        "colab": {
          "base_uri": "https://localhost:8080/",
          "height": 437
        },
        "outputId": "97b19931-0e2a-49f2-e9e6-529fc2fc99b3"
      },
      "source": [
        "# Running A star Search\n",
        "path = A_star(board.graph, board.start, board.goal, heuristics(board))\n",
        "board.draw()"
      ],
      "execution_count": 487,
      "outputs": [
        {
          "output_type": "stream",
          "text": [
            "Path found after steps : 30\n",
            "▇ Free Cell       \t \u001b[33m▇\u001b[00m Blocked Cell   \n",
            "\u001b[34m▇\u001b[00m Path            \t \u001b[90m▇\u001b[00m Traversed      \n",
            "\u001b[32m▇\u001b[00m Start Cell      \t \u001b[31m▇\u001b[00m Goal Cell      \n",
            "\n",
            "▇ ▇ ▇ ▇ ▇ ▇ ▇ ▇ ▇ ▇ ▇ ▇ ▇ ▇ ▇ \u001b[33m▇\u001b[00m ▇ ▇ ▇ ▇ ▇ ▇ ▇ ▇ \u001b[90m▇\u001b[00m \u001b[90m▇\u001b[00m \u001b[34m▇\u001b[00m \u001b[90m▇\u001b[00m \u001b[34m▇\u001b[00m \u001b[31m▇\u001b[00m \n",
            "▇ ▇ ▇ ▇ ▇ ▇ ▇ ▇ ▇ ▇ ▇ ▇ ▇ ▇ ▇ \u001b[33m▇\u001b[00m ▇ ▇ ▇ ▇ ▇ ▇ ▇ \u001b[90m▇\u001b[00m \u001b[90m▇\u001b[00m \u001b[34m▇\u001b[00m \u001b[90m▇\u001b[00m \u001b[34m▇\u001b[00m \u001b[90m▇\u001b[00m ▇ \n",
            "▇ ▇ ▇ ▇ ▇ ▇ ▇ ▇ ▇ ▇ ▇ ▇ ▇ ▇ ▇ \u001b[33m▇\u001b[00m ▇ ▇ ▇ ▇ ▇ ▇ \u001b[90m▇\u001b[00m \u001b[90m▇\u001b[00m \u001b[34m▇\u001b[00m \u001b[90m▇\u001b[00m \u001b[90m▇\u001b[00m \u001b[90m▇\u001b[00m \u001b[90m▇\u001b[00m ▇ \n",
            "▇ ▇ ▇ ▇ ▇ ▇ ▇ ▇ ▇ ▇ ▇ ▇ ▇ \u001b[90m▇\u001b[00m \u001b[90m▇\u001b[00m \u001b[33m▇\u001b[00m ▇ ▇ ▇ ▇ ▇ \u001b[90m▇\u001b[00m \u001b[90m▇\u001b[00m \u001b[34m▇\u001b[00m \u001b[90m▇\u001b[00m \u001b[90m▇\u001b[00m ▇ ▇ ▇ ▇ \n",
            "▇ ▇ ▇ ▇ ▇ ▇ ▇ ▇ ▇ ▇ ▇ ▇ \u001b[90m▇\u001b[00m \u001b[90m▇\u001b[00m \u001b[90m▇\u001b[00m \u001b[33m▇\u001b[00m ▇ ▇ ▇ ▇ \u001b[90m▇\u001b[00m \u001b[90m▇\u001b[00m \u001b[34m▇\u001b[00m \u001b[90m▇\u001b[00m \u001b[90m▇\u001b[00m ▇ ▇ ▇ ▇ ▇ \n",
            "▇ ▇ ▇ ▇ ▇ ▇ ▇ ▇ ▇ ▇ ▇ \u001b[90m▇\u001b[00m \u001b[90m▇\u001b[00m \u001b[90m▇\u001b[00m \u001b[90m▇\u001b[00m \u001b[33m▇\u001b[00m ▇ ▇ ▇ \u001b[90m▇\u001b[00m \u001b[90m▇\u001b[00m \u001b[34m▇\u001b[00m \u001b[90m▇\u001b[00m \u001b[90m▇\u001b[00m ▇ ▇ ▇ ▇ ▇ ▇ \n",
            "▇ ▇ ▇ ▇ ▇ ▇ ▇ ▇ ▇ ▇ \u001b[90m▇\u001b[00m \u001b[90m▇\u001b[00m \u001b[90m▇\u001b[00m \u001b[90m▇\u001b[00m \u001b[90m▇\u001b[00m \u001b[33m▇\u001b[00m ▇ ▇ \u001b[90m▇\u001b[00m \u001b[90m▇\u001b[00m \u001b[34m▇\u001b[00m \u001b[90m▇\u001b[00m \u001b[90m▇\u001b[00m ▇ ▇ ▇ ▇ ▇ ▇ ▇ \n",
            "▇ ▇ ▇ ▇ ▇ ▇ ▇ ▇ ▇ \u001b[90m▇\u001b[00m \u001b[90m▇\u001b[00m \u001b[90m▇\u001b[00m \u001b[90m▇\u001b[00m \u001b[90m▇\u001b[00m \u001b[90m▇\u001b[00m \u001b[33m▇\u001b[00m ▇ \u001b[90m▇\u001b[00m \u001b[90m▇\u001b[00m \u001b[34m▇\u001b[00m \u001b[90m▇\u001b[00m \u001b[90m▇\u001b[00m ▇ ▇ ▇ ▇ ▇ ▇ ▇ ▇ \n",
            "▇ ▇ ▇ ▇ ▇ ▇ ▇ ▇ \u001b[90m▇\u001b[00m \u001b[90m▇\u001b[00m \u001b[34m▇\u001b[00m \u001b[90m▇\u001b[00m \u001b[90m▇\u001b[00m \u001b[90m▇\u001b[00m \u001b[90m▇\u001b[00m \u001b[33m▇\u001b[00m \u001b[90m▇\u001b[00m \u001b[90m▇\u001b[00m \u001b[34m▇\u001b[00m \u001b[90m▇\u001b[00m \u001b[90m▇\u001b[00m ▇ ▇ ▇ ▇ ▇ ▇ ▇ ▇ ▇ \n",
            "▇ ▇ ▇ ▇ ▇ ▇ ▇ \u001b[90m▇\u001b[00m \u001b[90m▇\u001b[00m \u001b[34m▇\u001b[00m \u001b[90m▇\u001b[00m \u001b[34m▇\u001b[00m \u001b[90m▇\u001b[00m \u001b[90m▇\u001b[00m \u001b[90m▇\u001b[00m \u001b[33m▇\u001b[00m \u001b[90m▇\u001b[00m \u001b[34m▇\u001b[00m \u001b[90m▇\u001b[00m \u001b[90m▇\u001b[00m ▇ ▇ ▇ ▇ ▇ ▇ ▇ ▇ ▇ ▇ \n",
            "▇ ▇ ▇ ▇ ▇ ▇ \u001b[90m▇\u001b[00m \u001b[90m▇\u001b[00m \u001b[34m▇\u001b[00m \u001b[90m▇\u001b[00m \u001b[90m▇\u001b[00m \u001b[90m▇\u001b[00m \u001b[34m▇\u001b[00m \u001b[90m▇\u001b[00m \u001b[34m▇\u001b[00m \u001b[90m▇\u001b[00m \u001b[34m▇\u001b[00m \u001b[90m▇\u001b[00m \u001b[90m▇\u001b[00m ▇ ▇ ▇ ▇ ▇ ▇ ▇ ▇ ▇ ▇ ▇ \n",
            "▇ ▇ ▇ ▇ ▇ \u001b[90m▇\u001b[00m \u001b[90m▇\u001b[00m \u001b[34m▇\u001b[00m \u001b[90m▇\u001b[00m \u001b[90m▇\u001b[00m ▇ \u001b[90m▇\u001b[00m \u001b[90m▇\u001b[00m \u001b[34m▇\u001b[00m \u001b[90m▇\u001b[00m \u001b[34m▇\u001b[00m \u001b[90m▇\u001b[00m \u001b[90m▇\u001b[00m ▇ ▇ ▇ ▇ ▇ ▇ ▇ ▇ ▇ ▇ ▇ ▇ \n",
            "▇ ▇ ▇ ▇ \u001b[90m▇\u001b[00m \u001b[90m▇\u001b[00m \u001b[34m▇\u001b[00m \u001b[90m▇\u001b[00m \u001b[90m▇\u001b[00m ▇ ▇ ▇ \u001b[90m▇\u001b[00m \u001b[90m▇\u001b[00m \u001b[90m▇\u001b[00m \u001b[90m▇\u001b[00m \u001b[90m▇\u001b[00m ▇ ▇ ▇ ▇ ▇ ▇ ▇ ▇ ▇ ▇ ▇ ▇ ▇ \n",
            "▇ ▇ ▇ \u001b[90m▇\u001b[00m \u001b[90m▇\u001b[00m \u001b[34m▇\u001b[00m \u001b[90m▇\u001b[00m \u001b[90m▇\u001b[00m ▇ ▇ ▇ ▇ ▇ ▇ ▇ ▇ ▇ ▇ ▇ ▇ ▇ ▇ ▇ ▇ ▇ ▇ ▇ ▇ ▇ ▇ \n",
            "▇ ▇ \u001b[90m▇\u001b[00m \u001b[90m▇\u001b[00m \u001b[34m▇\u001b[00m \u001b[90m▇\u001b[00m \u001b[90m▇\u001b[00m ▇ ▇ ▇ ▇ ▇ ▇ ▇ ▇ ▇ ▇ ▇ ▇ ▇ ▇ ▇ ▇ ▇ ▇ ▇ ▇ ▇ ▇ ▇ \n",
            "▇ \u001b[90m▇\u001b[00m \u001b[90m▇\u001b[00m \u001b[34m▇\u001b[00m \u001b[90m▇\u001b[00m \u001b[90m▇\u001b[00m ▇ ▇ ▇ ▇ ▇ ▇ ▇ ▇ ▇ ▇ ▇ ▇ ▇ ▇ ▇ ▇ ▇ ▇ ▇ ▇ ▇ ▇ ▇ ▇ \n",
            "\u001b[90m▇\u001b[00m \u001b[90m▇\u001b[00m \u001b[34m▇\u001b[00m \u001b[90m▇\u001b[00m \u001b[90m▇\u001b[00m ▇ ▇ ▇ ▇ ▇ ▇ ▇ ▇ ▇ ▇ ▇ ▇ ▇ ▇ ▇ ▇ ▇ ▇ ▇ ▇ ▇ ▇ ▇ ▇ ▇ \n",
            "\u001b[90m▇\u001b[00m \u001b[34m▇\u001b[00m \u001b[90m▇\u001b[00m \u001b[90m▇\u001b[00m ▇ ▇ ▇ ▇ ▇ ▇ ▇ ▇ ▇ ▇ ▇ ▇ ▇ ▇ ▇ ▇ ▇ ▇ ▇ ▇ ▇ ▇ ▇ ▇ ▇ ▇ \n",
            "\u001b[34m▇\u001b[00m ▇ \u001b[90m▇\u001b[00m ▇ ▇ ▇ ▇ ▇ ▇ ▇ ▇ ▇ ▇ ▇ ▇ ▇ ▇ ▇ ▇ ▇ ▇ ▇ ▇ ▇ ▇ ▇ ▇ ▇ ▇ ▇ \n",
            "\u001b[32m▇\u001b[00m ▇ ▇ ▇ ▇ ▇ ▇ ▇ ▇ ▇ ▇ ▇ ▇ ▇ ▇ ▇ ▇ ▇ ▇ ▇ ▇ ▇ ▇ ▇ ▇ ▇ ▇ ▇ ▇ ▇ \n"
          ],
          "name": "stdout"
        }
      ]
    },
    {
      "cell_type": "code",
      "metadata": {
        "id": "acRzvbw3wolr",
        "colab_type": "code",
        "colab": {}
      },
      "source": [
        ""
      ],
      "execution_count": 487,
      "outputs": []
    }
  ]
}