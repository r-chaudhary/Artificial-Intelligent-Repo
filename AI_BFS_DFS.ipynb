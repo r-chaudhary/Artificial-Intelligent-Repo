{
  "nbformat": 4,
  "nbformat_minor": 0,
  "metadata": {
    "colab": {
      "name": "AI_BFS_DFS.ipynb",
      "provenance": [],
      "collapsed_sections": [],
      "authorship_tag": "ABX9TyOw22b+HDEG1FvkHu2vRnSk",
      "include_colab_link": true
    },
    "kernelspec": {
      "name": "python3",
      "display_name": "Python 3"
    }
  },
  "cells": [
    {
      "cell_type": "markdown",
      "metadata": {
        "id": "view-in-github",
        "colab_type": "text"
      },
      "source": [
        "<a href=\"https://colab.research.google.com/github/r-chaudhary/Artificial-Intelligent-Repo/blob/master/AI_BFS_DFS.ipynb\" target=\"_parent\"><img src=\"https://colab.research.google.com/assets/colab-badge.svg\" alt=\"Open In Colab\"/></a>"
      ]
    },
    {
      "cell_type": "markdown",
      "metadata": {
        "id": "c64_HXLtJc64",
        "colab_type": "text"
      },
      "source": [
        "# **Aritificial Intelligence Practical**"
      ]
    },
    {
      "cell_type": "markdown",
      "metadata": {
        "id": "8_L4zp9ZIUhX",
        "colab_type": "text"
      },
      "source": [
        "Graph is a data structure where BFS and DFS techinque will be applied. Here class Graph is a graph structure to be used in evaluating searching techniques. "
      ]
    },
    {
      "cell_type": "markdown",
      "metadata": {
        "id": "1EzZpw1uJA91",
        "colab_type": "text"
      },
      "source": [
        "## Graph"
      ]
    },
    {
      "cell_type": "code",
      "metadata": {
        "id": "v8nq1ccSzt-3",
        "colab_type": "code",
        "colab": {}
      },
      "source": [
        "class Graph:\n",
        "    def __init__(self):\n",
        "        self.graph = dict()\n",
        "\n",
        "    def __len__(self):\n",
        "        edge_count = 0\n",
        "        for i in self.graph.items():\n",
        "            edge_count += len(i) \n",
        "        return len(self.graph)\n",
        "\n",
        "    def addVertex(self,vertex_name):\n",
        "        self.graph[vertex_name] = list()\n",
        "\n",
        "    def addEdge(self,from_vertex,to_vertex):\n",
        "        try:\n",
        "            #if to_vertex not in self.graph.keys():\n",
        "            self.graph[from_vertex].append(to_vertex)\n",
        "        except KeyError:\n",
        "            print(\"Error : %s vertex not found.\"%(from_vertex))\n",
        "\n",
        "    def removeVertex(self, vertex_name):\n",
        "        try:\n",
        "            self.graph.pop(vertex_name)\n",
        "            for vertex, edge_list in self.graph.items():\n",
        "                if vertex in edge_list:\n",
        "                    self.graph[veretx].remove(vertex)                    \n",
        "        except KeyError:\n",
        "            print(\"Error : %s vertex not found.\"%(vertex_name))\n",
        "    \n",
        "    def removeEdge(self, from_vertex, to_vertex):\n",
        "        if from_vertex not in self.graph.keys():\n",
        "            print(\"Error : %s vertex not found.\"%(from_vertex))\n",
        "        elif to_vertex not in self.graph.keys():\n",
        "            print(\"Error : %s vertex not found.\"%(to_vertex))\n",
        "        else:\n",
        "            self.graph[from_vertex].remove(to_vertex)\n",
        "\n"
      ],
      "execution_count": 24,
      "outputs": []
    },
    {
      "cell_type": "markdown",
      "metadata": {
        "id": "uuIUtgWNMrd6",
        "colab_type": "text"
      },
      "source": [
        "## Breadth First Search"
      ]
    },
    {
      "cell_type": "code",
      "metadata": {
        "id": "bo4IbA1o003k",
        "colab_type": "code",
        "cellView": "code",
        "colab": {}
      },
      "source": [
        "from prettytable import PrettyTable\n",
        "\n",
        "def BreadthFirstSearch(G,start_vertex,search=None,verbose=False):\n",
        "    print(\"-------- BREADTH FIRST SEARCH --------\")\n",
        "    graph = G.graph\n",
        "    discovered_vertex = list(start_vertex)\n",
        "    queue = list(start_vertex)  \n",
        "    iteration = 0\n",
        "    BFS_LIST = []\n",
        "    search_found = False\n",
        "\n",
        "    if verbose ==True:\n",
        "        table = PrettyTable()\n",
        "        table.field_names = [\"Iteration No.\",\"Vertex\",\"Queue State\",\"Discovered Vertex\"]\n",
        "        table.add_row([iteration,\"\",str(queue),str(discovered_vertex)])\n",
        "\n",
        "    while len(queue) != 0:\n",
        "        iteration += 1\n",
        "        vertex = queue.pop(0)\n",
        "        \n",
        "        BFS_LIST.append(vertex)\n",
        "        for v in graph[vertex]:\n",
        "            if v not in discovered_vertex:\n",
        "                queue.append(v)\n",
        "                discovered_vertex.append(v)\n",
        "            if (search in discovered_vertex) and (search_found is False):\n",
        "                print(\"{} found in {} iteration\".format(search,iteration))\n",
        "                search_found = True\n",
        "        if verbose == True : table.add_row([iteration,vertex,str(queue),str(discovered_vertex)]) \n",
        "\n",
        "        if search == vertex:\n",
        "            print(\"{} reached in {} iteration\".format(search,iteration))\n",
        "            if verbose == True: print(table)\n",
        "            return BFS_LIST\n",
        "    \n",
        "    if verbose == True: print(table)\n",
        "    return BFS_LIST\n"
      ],
      "execution_count": 25,
      "outputs": []
    },
    {
      "cell_type": "markdown",
      "metadata": {
        "id": "gCLY27eIMwZF",
        "colab_type": "text"
      },
      "source": [
        "## Depth First Search"
      ]
    },
    {
      "cell_type": "code",
      "metadata": {
        "id": "Qh8Z7sbczndY",
        "colab_type": "code",
        "colab": {}
      },
      "source": [
        "from prettytable import PrettyTable\n",
        "\n",
        "def DepthFirstSearch(G,start_vertex,search=None,verbose=False):\n",
        "    print(\"-------- Depth FIRST SEARCH --------\")\n",
        "    graph = G.graph\n",
        "    discovered_vertex = list(start_vertex)\n",
        "    queue = list(start_vertex)  \n",
        "    iteration = 0\n",
        "    DFS_LIST = []\n",
        "    search_found = False\n",
        "\n",
        "    if verbose ==True:\n",
        "        table = PrettyTable()\n",
        "        table.field_names = [\"Iteration No.\",\"Vertex\",\"Queue State\",\"Discovered Vertex\"]\n",
        "        table.add_row([iteration,\"\",str(queue),str(discovered_vertex)])\n",
        "\n",
        "    while len(queue) != 0:\n",
        "        iteration += 1\n",
        "        vertex = queue.pop()\n",
        "        DFS_LIST.append(vertex)\n",
        "        L = list()\n",
        "        for v in graph[vertex]:\n",
        "            if v not in discovered_vertex:\n",
        "                L.append(v)\n",
        "                discovered_vertex.append(v)\n",
        "            if (search in discovered_vertex) and (search_found is False):\n",
        "                print(\"{} found in {} iteration\".format(search,iteration))\n",
        "                search_found = True\n",
        "        queue.extend(list(set(L)))\n",
        "\n",
        "        if verbose == True : table.add_row([iteration,vertex,str(queue),str(discovered_vertex)]) \n",
        "\n",
        "        if search == vertex:\n",
        "            print(\"{} reached in {} iteration\".format(search,iteration))\n",
        "            if verbose == True: print(table)\n",
        "            return DFS_LIST\n",
        "    \n",
        "    if verbose == True: print(table)\n",
        "    return DFS_LIST"
      ],
      "execution_count": 26,
      "outputs": []
    },
    {
      "cell_type": "markdown",
      "metadata": {
        "id": "4NTnedCEM2iy",
        "colab_type": "text"
      },
      "source": [
        "## Main Program"
      ]
    },
    {
      "cell_type": "markdown",
      "metadata": {
        "id": "_inju27qNjoU",
        "colab_type": "text"
      },
      "source": [
        "### Graph Creation"
      ]
    },
    {
      "cell_type": "code",
      "metadata": {
        "id": "077Ty_6W9W5S",
        "colab_type": "code",
        "colab": {}
      },
      "source": [
        "if __name__ == \"__main__\": \n",
        "    G = Graph()\n",
        "    G.addVertex('A')\n",
        "    G.addVertex('B')\n",
        "    G.addVertex('C')\n",
        "    G.addVertex('D')\n",
        "    G.addVertex('E')\n",
        "    G.addVertex('F')\n",
        "\n",
        "    G.addEdge('A','B')\n",
        "    G.addEdge('A','C')\n",
        "    G.addEdge('B','D')\n",
        "    G.addEdge('B','E')\n",
        "    G.addEdge('C','B')\n",
        "    G.addEdge('C','F')\n",
        "    G.addEdge('E','F')\n"
      ],
      "execution_count": 27,
      "outputs": []
    },
    {
      "cell_type": "code",
      "metadata": {
        "id": "z5LlRSXzbZiZ",
        "colab_type": "code",
        "colab": {
          "base_uri": "https://localhost:8080/",
          "height": 319
        },
        "outputId": "f20b5b86-4273-4186-e94a-fd0ef9ec1ac1"
      },
      "source": [
        "import networkx as nx\n",
        "import matplotlib.pyplot as plt\n",
        "\n",
        "ga = nx.Graph()\n",
        "for i in G.graph:\n",
        "    ga.add_node(i)\n",
        "    for j in G.graph[i]:\n",
        "        ga.add_edge(i,j)\n",
        "\n",
        "nx.draw(ga, with_labels = True, node_size=700,font_size=20)\n",
        "plt.savefig(\"simple_path.png\") # save as png\n",
        "plt.show() # display"
      ],
      "execution_count": 28,
      "outputs": [
        {
          "output_type": "display_data",
          "data": {
            "image/png": "[encoded data removed]",
            "text/plain": [
              "<Figure size 432x288 with 1 Axes>"
            ]
          },
          "metadata": {
            "tags": []
          }
        }
      ]
    },
    {
      "cell_type": "markdown",
      "metadata": {
        "id": "BCS6nvVzNnJZ",
        "colab_type": "text"
      },
      "source": [
        "### Breadth First Search Demostration"
      ]
    },
    {
      "cell_type": "code",
      "metadata": {
        "id": "azRQWYNp24zi",
        "colab_type": "code",
        "colab": {
          "base_uri": "https://localhost:8080/",
          "height": 52
        },
        "outputId": "ae7aea9c-502e-40e8-8552-357c37115108"
      },
      "source": [
        "bfs_result = BreadthFirstSearch(G,\"A\")\n",
        "print(\"Result \",bfs_result)"
      ],
      "execution_count": 29,
      "outputs": [
        {
          "output_type": "stream",
          "text": [
            "-------- BREADTH FIRST SEARCH --------\n",
            "Result  ['A', 'B', 'C', 'D', 'E', 'F']\n"
          ],
          "name": "stdout"
        }
      ]
    },
    {
      "cell_type": "code",
      "metadata": {
        "id": "QECSNRP1N6cY",
        "colab_type": "code",
        "colab": {
          "base_uri": "https://localhost:8080/",
          "height": 243
        },
        "outputId": "34c6ff1c-5dee-4261-97c1-a4ac51bc5b5c"
      },
      "source": [
        "bfs_result = BreadthFirstSearch(G,\"A\",verbose=True)\n",
        "print(\"Result \",bfs_result)"
      ],
      "execution_count": 30,
      "outputs": [
        {
          "output_type": "stream",
          "text": [
            "-------- BREADTH FIRST SEARCH --------\n",
            "+---------------+--------+-----------------+--------------------------------+\n",
            "| Iteration No. | Vertex |   Queue State   |       Discovered Vertex        |\n",
            "+---------------+--------+-----------------+--------------------------------+\n",
            "|       0       |        |      ['A']      |             ['A']              |\n",
            "|       1       |   A    |    ['B', 'C']   |        ['A', 'B', 'C']         |\n",
            "|       2       |   B    | ['C', 'D', 'E'] |   ['A', 'B', 'C', 'D', 'E']    |\n",
            "|       3       |   C    | ['D', 'E', 'F'] | ['A', 'B', 'C', 'D', 'E', 'F'] |\n",
            "|       4       |   D    |    ['E', 'F']   | ['A', 'B', 'C', 'D', 'E', 'F'] |\n",
            "|       5       |   E    |      ['F']      | ['A', 'B', 'C', 'D', 'E', 'F'] |\n",
            "|       6       |   F    |        []       | ['A', 'B', 'C', 'D', 'E', 'F'] |\n",
            "+---------------+--------+-----------------+--------------------------------+\n",
            "Result  ['A', 'B', 'C', 'D', 'E', 'F']\n"
          ],
          "name": "stdout"
        }
      ]
    },
    {
      "cell_type": "code",
      "metadata": {
        "id": "AjGgdszCN90O",
        "colab_type": "code",
        "colab": {
          "base_uri": "https://localhost:8080/",
          "height": 260
        },
        "outputId": "62576af3-8e3a-4134-8d47-c2d520284e2c"
      },
      "source": [
        "bfs_result = BreadthFirstSearch(G,\"A\",search=\"E\",verbose=True)\n",
        "print(\"Result \",bfs_result)"
      ],
      "execution_count": 31,
      "outputs": [
        {
          "output_type": "stream",
          "text": [
            "-------- BREADTH FIRST SEARCH --------\n",
            "E found in 2 iteration\n",
            "E reached in 5 iteration\n",
            "+---------------+--------+-----------------+--------------------------------+\n",
            "| Iteration No. | Vertex |   Queue State   |       Discovered Vertex        |\n",
            "+---------------+--------+-----------------+--------------------------------+\n",
            "|       0       |        |      ['A']      |             ['A']              |\n",
            "|       1       |   A    |    ['B', 'C']   |        ['A', 'B', 'C']         |\n",
            "|       2       |   B    | ['C', 'D', 'E'] |   ['A', 'B', 'C', 'D', 'E']    |\n",
            "|       3       |   C    | ['D', 'E', 'F'] | ['A', 'B', 'C', 'D', 'E', 'F'] |\n",
            "|       4       |   D    |    ['E', 'F']   | ['A', 'B', 'C', 'D', 'E', 'F'] |\n",
            "|       5       |   E    |      ['F']      | ['A', 'B', 'C', 'D', 'E', 'F'] |\n",
            "+---------------+--------+-----------------+--------------------------------+\n",
            "Result  ['A', 'B', 'C', 'D', 'E']\n"
          ],
          "name": "stdout"
        }
      ]
    },
    {
      "cell_type": "markdown",
      "metadata": {
        "id": "6d7lv1ATNvp-",
        "colab_type": "text"
      },
      "source": [
        "### Depth First Search Demostration"
      ]
    },
    {
      "cell_type": "code",
      "metadata": {
        "colab_type": "code",
        "id": "R5ie4hzNOOJb",
        "colab": {
          "base_uri": "https://localhost:8080/",
          "height": 52
        },
        "outputId": "8655361f-e8d1-46c8-d5b0-e44af038421a"
      },
      "source": [
        "dfs_result = DepthFirstSearch(G,\"A\")\n",
        "print(\"Result \",dfs_result)"
      ],
      "execution_count": 32,
      "outputs": [
        {
          "output_type": "stream",
          "text": [
            "-------- Depth FIRST SEARCH --------\n",
            "Result  ['A', 'B', 'E', 'F', 'D', 'C']\n"
          ],
          "name": "stdout"
        }
      ]
    },
    {
      "cell_type": "code",
      "metadata": {
        "colab_type": "code",
        "id": "BFapLBrGOMMe",
        "colab": {
          "base_uri": "https://localhost:8080/",
          "height": 243
        },
        "outputId": "8be2762e-b356-42c7-c5d5-762245c494f0"
      },
      "source": [
        "dfs_result = DepthFirstSearch(G,\"A\",verbose=True)\n",
        "print(\"Result \",dfs_result)"
      ],
      "execution_count": 33,
      "outputs": [
        {
          "output_type": "stream",
          "text": [
            "-------- Depth FIRST SEARCH --------\n",
            "+---------------+--------+-----------------+--------------------------------+\n",
            "| Iteration No. | Vertex |   Queue State   |       Discovered Vertex        |\n",
            "+---------------+--------+-----------------+--------------------------------+\n",
            "|       0       |        |      ['A']      |             ['A']              |\n",
            "|       1       |   A    |    ['C', 'B']   |        ['A', 'B', 'C']         |\n",
            "|       2       |   B    | ['C', 'D', 'E'] |   ['A', 'B', 'C', 'D', 'E']    |\n",
            "|       3       |   E    | ['C', 'D', 'F'] | ['A', 'B', 'C', 'D', 'E', 'F'] |\n",
            "|       4       |   F    |    ['C', 'D']   | ['A', 'B', 'C', 'D', 'E', 'F'] |\n",
            "|       5       |   D    |      ['C']      | ['A', 'B', 'C', 'D', 'E', 'F'] |\n",
            "|       6       |   C    |        []       | ['A', 'B', 'C', 'D', 'E', 'F'] |\n",
            "+---------------+--------+-----------------+--------------------------------+\n",
            "Result  ['A', 'B', 'E', 'F', 'D', 'C']\n"
          ],
          "name": "stdout"
        }
      ]
    },
    {
      "cell_type": "code",
      "metadata": {
        "id": "QL-UoZXTiLoK",
        "colab_type": "code",
        "colab": {
          "base_uri": "https://localhost:8080/",
          "height": 225
        },
        "outputId": "9fdc642f-7f33-42f9-c722-4902326af76a"
      },
      "source": [
        "dfs_result = DepthFirstSearch(G,\"A\",search=\"E\",verbose=True)\n",
        "print(\"Result \",dfs_result)"
      ],
      "execution_count": 34,
      "outputs": [
        {
          "output_type": "stream",
          "text": [
            "-------- Depth FIRST SEARCH --------\n",
            "E found in 2 iteration\n",
            "E reached in 3 iteration\n",
            "+---------------+--------+-----------------+--------------------------------+\n",
            "| Iteration No. | Vertex |   Queue State   |       Discovered Vertex        |\n",
            "+---------------+--------+-----------------+--------------------------------+\n",
            "|       0       |        |      ['A']      |             ['A']              |\n",
            "|       1       |   A    |    ['C', 'B']   |        ['A', 'B', 'C']         |\n",
            "|       2       |   B    | ['C', 'D', 'E'] |   ['A', 'B', 'C', 'D', 'E']    |\n",
            "|       3       |   E    | ['C', 'D', 'F'] | ['A', 'B', 'C', 'D', 'E', 'F'] |\n",
            "+---------------+--------+-----------------+--------------------------------+\n",
            "Result  ['A', 'B', 'E']\n"
          ],
          "name": "stdout"
        }
      ]
    }
  ]
}