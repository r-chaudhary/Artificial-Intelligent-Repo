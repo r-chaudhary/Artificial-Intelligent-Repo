{
  "nbformat": 4,
  "nbformat_minor": 0,
  "metadata": {
    "colab": {
      "name": "AI_BFS_DFS.ipynb",
      "provenance": [],
      "collapsed_sections": [],
      "authorship_tag": "ABX9TyPMuDu0akzC8eLze4H3uU/q",
      "include_colab_link": true
    },
    "kernelspec": {
      "name": "python3",
      "display_name": "Python 3"
    }
  },
  "cells": [
    {
      "cell_type": "markdown",
      "metadata": {
        "id": "view-in-github",
        "colab_type": "text"
      },
      "source": [
        "<a href=\"https://colab.research.google.com/github/r-chaudhary/Artificial-Intelligent-Repo/blob/master/AI_BFS_DFS.ipynb\" target=\"_parent\"><img src=\"https://colab.research.google.com/assets/colab-badge.svg\" alt=\"Open In Colab\"/></a>"
      ]
    },
    {
      "cell_type": "markdown",
      "metadata": {
        "id": "c64_HXLtJc64",
        "colab_type": "text"
      },
      "source": [
        "# **Aritificial Intelligence Practical**"
      ]
    },
    {
      "cell_type": "markdown",
      "metadata": {
        "id": "8_L4zp9ZIUhX",
        "colab_type": "text"
      },
      "source": [
        "Graph is a data structure where BFS and DFS techinque will be applied. Here class Graph is a graph structure to be used in evaluating searching techniques. "
      ]
    },
    {
      "cell_type": "markdown",
      "metadata": {
        "id": "1EzZpw1uJA91",
        "colab_type": "text"
      },
      "source": [
        "## Graph"
      ]
    },
    {
      "cell_type": "code",
      "metadata": {
        "id": "v8nq1ccSzt-3",
        "colab_type": "code",
        "colab": {}
      },
      "source": [
        "class Graph:\n",
        "    def __init__(self):\n",
        "        self.graph = dict()\n",
        "\n",
        "    def __len__(self):\n",
        "        edge_count = 0\n",
        "        for i in self.graph.items():\n",
        "            edge_count += len(i) \n",
        "        return len(self.graph)\n",
        "\n",
        "    def addVertex(self,vertex_name):\n",
        "        self.graph[vertex_name] = list()\n",
        "\n",
        "    def addEdge(self,from_vertex,to_vertex):\n",
        "        try:\n",
        "            #if to_vertex not in self.graph.keys():\n",
        "            self.graph[from_vertex].append(to_vertex)\n",
        "        except KeyError:\n",
        "            print(\"Error : %s vertex not found.\"%(from_vertex))\n",
        "\n",
        "    def removeVertex(self, vertex_name):\n",
        "        try:\n",
        "            self.graph.pop(vertex_name)\n",
        "            for vertex, edge_list in self.graph.items():\n",
        "                if vertex in edge_list:\n",
        "                    self.graph[veretx].remove(vertex)                    \n",
        "        except KeyError:\n",
        "            print(\"Error : %s vertex not found.\"%(vertex_name))\n",
        "    \n",
        "    def removeEdge(self, from_vertex, to_vertex):\n",
        "        if from_vertex not in self.graph.keys():\n",
        "            print(\"Error : %s vertex not found.\"%(from_vertex))\n",
        "        elif to_vertex not in self.graph.keys():\n",
        "            print(\"Error : %s vertex not found.\"%(to_vertex))\n",
        "        else:\n",
        "            self.graph[from_vertex].remove(to_vertex)\n",
        "\n"
      ],
      "execution_count": 14,
      "outputs": []
    },
    {
      "cell_type": "markdown",
      "metadata": {
        "id": "uuIUtgWNMrd6",
        "colab_type": "text"
      },
      "source": [
        "## Breadth First Search"
      ]
    },
    {
      "cell_type": "code",
      "metadata": {
        "id": "bo4IbA1o003k",
        "colab_type": "code",
        "cellView": "code",
        "colab": {}
      },
      "source": [
        "from prettytable import PrettyTable\n",
        "\n",
        "def BreadthFirstSearch(G,start_vertex,search=None,verbose=False):\n",
        "    print(\"-------- BREADTH FIRST SEARCH --------\")\n",
        "    graph = G.graph\n",
        "    discovered_vertex = list(start_vertex)\n",
        "    queue = list(start_vertex)  \n",
        "    iteration = 0\n",
        "    BFS_LIST = []\n",
        "    search_found = False\n",
        "\n",
        "    if verbose ==True:\n",
        "        table = PrettyTable()\n",
        "        table.field_names = [\"Iteration No.\",\"Vertex\",\"Queue State\",\"Discovered Vertex\"]\n",
        "        table.add_row([iteration,\"\",str(queue),str(discovered_vertex)])\n",
        "\n",
        "    while len(queue) != 0:\n",
        "        iteration += 1\n",
        "        vertex = queue.pop(0)\n",
        "        \n",
        "        BFS_LIST.append(vertex)\n",
        "        for v in graph[vertex]:\n",
        "            if v not in discovered_vertex:\n",
        "                queue.append(v)\n",
        "                discovered_vertex.append(v)\n",
        "            if (search in discovered_vertex) and (search_found is False):\n",
        "                print(\"{} found in {} iteration\".format(search,iteration))\n",
        "                search_found = True\n",
        "        if verbose == True : table.add_row([iteration,vertex,str(queue),str(discovered_vertex)]) \n",
        "\n",
        "        if search == vertex:\n",
        "            print(\"{} reached in {} iteration\".format(search,iteration))\n",
        "            if verbose == True: print(table)\n",
        "            return BFS_LIST\n",
        "    \n",
        "    if verbose == True: print(table)\n",
        "    return BFS_LIST\n"
      ],
      "execution_count": 15,
      "outputs": []
    },
    {
      "cell_type": "markdown",
      "metadata": {
        "id": "gCLY27eIMwZF",
        "colab_type": "text"
      },
      "source": [
        "## Depth First Search"
      ]
    },
    {
      "cell_type": "code",
      "metadata": {
        "id": "Qh8Z7sbczndY",
        "colab_type": "code",
        "colab": {}
      },
      "source": [
        "from prettytable import PrettyTable\n",
        "\n",
        "def DepthFirstSearch(G,start_vertex,search=None,verbose=False):\n",
        "    print(\"-------- Depth FIRST SEARCH --------\")\n",
        "    graph = G.graph\n",
        "    discovered_vertex = list(start_vertex)\n",
        "    queue = list(start_vertex)  \n",
        "    iteration = 0\n",
        "    DFS_LIST = []\n",
        "    search_found = False\n",
        "\n",
        "    if verbose ==True:\n",
        "        table = PrettyTable()\n",
        "        table.field_names = [\"Iteration No.\",\"Vertex\",\"Queue State\",\"Discovered Vertex\"]\n",
        "        table.add_row([iteration,\"\",str(queue),str(discovered_vertex)])\n",
        "\n",
        "    while len(queue) != 0:\n",
        "        iteration += 1\n",
        "        vertex = queue.pop()\n",
        "        DFS_LIST.append(vertex)\n",
        "        L = list()\n",
        "        for v in graph[vertex]:\n",
        "            if v not in discovered_vertex:\n",
        "                L.append(v)\n",
        "                discovered_vertex.append(v)\n",
        "            if (search in discovered_vertex) and (search_found is False):\n",
        "                print(\"{} found in {} iteration\".format(search,iteration))\n",
        "                search_found = True\n",
        "        queue.extend(list(set(L)))\n",
        "\n",
        "        if verbose == True : table.add_row([iteration,vertex,str(queue),str(discovered_vertex)]) \n",
        "\n",
        "        if search == vertex:\n",
        "            print(\"{} reached in {} iteration\".format(search,iteration))\n",
        "            if verbose == True: print(table)\n",
        "            return DFS_LIST\n",
        "    \n",
        "    if verbose == True: print(table)\n",
        "    return DFS_LIST"
      ],
      "execution_count": 16,
      "outputs": []
    },
    {
      "cell_type": "markdown",
      "metadata": {
        "id": "4NTnedCEM2iy",
        "colab_type": "text"
      },
      "source": [
        "## Main Program"
      ]
    },
    {
      "cell_type": "markdown",
      "metadata": {
        "id": "_inju27qNjoU",
        "colab_type": "text"
      },
      "source": [
        "### Graph Creation"
      ]
    },
    {
      "cell_type": "code",
      "metadata": {
        "id": "077Ty_6W9W5S",
        "colab_type": "code",
        "colab": {}
      },
      "source": [
        "if __name__ == \"__main__\": \n",
        "    G = Graph()\n",
        "    G.addVertex('A')\n",
        "    G.addVertex('B')\n",
        "    G.addVertex('C')\n",
        "    G.addVertex('D')\n",
        "    G.addVertex('E')\n",
        "    G.addVertex('F')\n",
        "    G.addVertex('G')\n",
        "    G.addVertex('H')\n",
        "    G.addEdge('A','B')\n",
        "    G.addEdge('A','C')\n",
        "    G.addEdge('B','D')\n",
        "    G.addEdge('B','E')\n",
        "    G.addEdge('C','F')\n",
        "    G.addEdge('C','G')\n",
        "    G.addEdge('F','H')\n",
        "    G.addEdge('G','H')\n",
        "\n"
      ],
      "execution_count": 17,
      "outputs": []
    },
    {
      "cell_type": "code",
      "metadata": {
        "id": "iWDCCvNJXIeq",
        "colab_type": "code",
        "colab": {
          "base_uri": "https://localhost:8080/",
          "height": 367
        },
        "outputId": "79e42f77-d5a7-4777-e3c6-af1b4be44490"
      },
      "source": [
        "from graphviz import Digraph\n",
        "\n",
        "styles = {\n",
        "    'node': {'shape': 'circle', 'style': 'filled', 'color': 'red'},\n",
        "}\n",
        "\n",
        "T = Digraph()\n",
        "for i in G.graph:\n",
        "    T.node(i, i, styles['node'])\n",
        "    for j in G.graph[i]:\n",
        "        T.edge(i,j)\n",
        "T"
      ],
      "execution_count": 18,
      "outputs": [
        {
          "output_type": "execute_result",
          "data": {
            "text/plain": [
              "<graphviz.dot.Digraph at 0x7f41a519dba8>"
            ],
            "image/svg+xml": "<?xml version=\"1.0\" encoding=\"UTF-8\" standalone=\"no\"?>\n<!DOCTYPE svg PUBLIC \"-//W3C//DTD SVG 1.1//EN\"\n \"http://www.w3.org/Graphics/SVG/1.1/DTD/svg11.dtd\">\n<!-- Generated by graphviz version 2.40.1 (20161225.0304)\n -->\n<!-- Title: %3 Pages: 1 -->\n<svg width=\"206pt\" height=\"260pt\"\n viewBox=\"0.00 0.00 206.00 260.00\" xmlns=\"http://www.w3.org/2000/svg\" xmlns:xlink=\"http://www.w3.org/1999/xlink\">\n<g id=\"graph0\" class=\"graph\" transform=\"scale(1 1) rotate(0) translate(4 256)\">\n<title>%3</title>\n<polygon fill=\"#ffffff\" stroke=\"transparent\" points=\"-4,4 -4,-256 202,-256 202,4 -4,4\"/>\n<!-- A -->\n<g id=\"node1\" class=\"node\">\n<title>A</title>\n<ellipse fill=\"#ff0000\" stroke=\"#ff0000\" cx=\"99\" cy=\"-234\" rx=\"18\" ry=\"18\"/>\n<text text-anchor=\"middle\" x=\"99\" y=\"-230.3\" font-family=\"Times,serif\" font-size=\"14.00\" fill=\"#000000\">A</text>\n</g>\n<!-- B -->\n<g id=\"node2\" class=\"node\">\n<title>B</title>\n<ellipse fill=\"#ff0000\" stroke=\"#ff0000\" cx=\"72\" cy=\"-162\" rx=\"18\" ry=\"18\"/>\n<text text-anchor=\"middle\" x=\"72\" y=\"-158.3\" font-family=\"Times,serif\" font-size=\"14.00\" fill=\"#000000\">B</text>\n</g>\n<!-- A&#45;&gt;B -->\n<g id=\"edge1\" class=\"edge\">\n<title>A&#45;&gt;B</title>\n<path fill=\"none\" stroke=\"#000000\" d=\"M92.6014,-216.937C89.407,-208.4186 85.471,-197.9227 81.8982,-188.3952\"/>\n<polygon fill=\"#000000\" stroke=\"#000000\" points=\"85.1411,-187.0749 78.3527,-178.9405 78.5868,-189.5328 85.1411,-187.0749\"/>\n</g>\n<!-- C -->\n<g id=\"node3\" class=\"node\">\n<title>C</title>\n<ellipse fill=\"#ff0000\" stroke=\"#ff0000\" cx=\"126\" cy=\"-162\" rx=\"18\" ry=\"18\"/>\n<text text-anchor=\"middle\" x=\"126\" y=\"-158.3\" font-family=\"Times,serif\" font-size=\"14.00\" fill=\"#000000\">C</text>\n</g>\n<!-- A&#45;&gt;C -->\n<g id=\"edge2\" class=\"edge\">\n<title>A&#45;&gt;C</title>\n<path fill=\"none\" stroke=\"#000000\" d=\"M105.3986,-216.937C108.593,-208.4186 112.529,-197.9227 116.1018,-188.3952\"/>\n<polygon fill=\"#000000\" stroke=\"#000000\" points=\"119.4132,-189.5328 119.6473,-178.9405 112.8589,-187.0749 119.4132,-189.5328\"/>\n</g>\n<!-- D -->\n<g id=\"node4\" class=\"node\">\n<title>D</title>\n<ellipse fill=\"#ff0000\" stroke=\"#ff0000\" cx=\"18\" cy=\"-90\" rx=\"18\" ry=\"18\"/>\n<text text-anchor=\"middle\" x=\"18\" y=\"-86.3\" font-family=\"Times,serif\" font-size=\"14.00\" fill=\"#000000\">D</text>\n</g>\n<!-- B&#45;&gt;D -->\n<g id=\"edge3\" class=\"edge\">\n<title>B&#45;&gt;D</title>\n<path fill=\"none\" stroke=\"#000000\" d=\"M61.0723,-147.4297C53.6066,-137.4754 43.5632,-124.0842 35.0526,-112.7368\"/>\n<polygon fill=\"#000000\" stroke=\"#000000\" points=\"37.7115,-110.4486 28.9115,-104.5486 32.1115,-114.6486 37.7115,-110.4486\"/>\n</g>\n<!-- E -->\n<g id=\"node5\" class=\"node\">\n<title>E</title>\n<ellipse fill=\"#ff0000\" stroke=\"#ff0000\" cx=\"72\" cy=\"-90\" rx=\"18\" ry=\"18\"/>\n<text text-anchor=\"middle\" x=\"72\" y=\"-86.3\" font-family=\"Times,serif\" font-size=\"14.00\" fill=\"#000000\">E</text>\n</g>\n<!-- B&#45;&gt;E -->\n<g id=\"edge4\" class=\"edge\">\n<title>B&#45;&gt;E</title>\n<path fill=\"none\" stroke=\"#000000\" d=\"M72,-143.8314C72,-136.131 72,-126.9743 72,-118.4166\"/>\n<polygon fill=\"#000000\" stroke=\"#000000\" points=\"75.5001,-118.4132 72,-108.4133 68.5001,-118.4133 75.5001,-118.4132\"/>\n</g>\n<!-- F -->\n<g id=\"node6\" class=\"node\">\n<title>F</title>\n<ellipse fill=\"#ff0000\" stroke=\"#ff0000\" cx=\"126\" cy=\"-90\" rx=\"18\" ry=\"18\"/>\n<text text-anchor=\"middle\" x=\"126\" y=\"-86.3\" font-family=\"Times,serif\" font-size=\"14.00\" fill=\"#000000\">F</text>\n</g>\n<!-- C&#45;&gt;F -->\n<g id=\"edge5\" class=\"edge\">\n<title>C&#45;&gt;F</title>\n<path fill=\"none\" stroke=\"#000000\" d=\"M126,-143.8314C126,-136.131 126,-126.9743 126,-118.4166\"/>\n<polygon fill=\"#000000\" stroke=\"#000000\" points=\"129.5001,-118.4132 126,-108.4133 122.5001,-118.4133 129.5001,-118.4132\"/>\n</g>\n<!-- G -->\n<g id=\"node7\" class=\"node\">\n<title>G</title>\n<ellipse fill=\"#ff0000\" stroke=\"#ff0000\" cx=\"180\" cy=\"-90\" rx=\"18\" ry=\"18\"/>\n<text text-anchor=\"middle\" x=\"180\" y=\"-86.3\" font-family=\"Times,serif\" font-size=\"14.00\" fill=\"#000000\">G</text>\n</g>\n<!-- C&#45;&gt;G -->\n<g id=\"edge6\" class=\"edge\">\n<title>C&#45;&gt;G</title>\n<path fill=\"none\" stroke=\"#000000\" d=\"M136.9277,-147.4297C144.3934,-137.4754 154.4368,-124.0842 162.9474,-112.7368\"/>\n<polygon fill=\"#000000\" stroke=\"#000000\" points=\"165.8885,-114.6486 169.0885,-104.5486 160.2885,-110.4486 165.8885,-114.6486\"/>\n</g>\n<!-- H -->\n<g id=\"node8\" class=\"node\">\n<title>H</title>\n<ellipse fill=\"#ff0000\" stroke=\"#ff0000\" cx=\"153\" cy=\"-18\" rx=\"18\" ry=\"18\"/>\n<text text-anchor=\"middle\" x=\"153\" y=\"-14.3\" font-family=\"Times,serif\" font-size=\"14.00\" fill=\"#000000\">H</text>\n</g>\n<!-- F&#45;&gt;H -->\n<g id=\"edge7\" class=\"edge\">\n<title>F&#45;&gt;H</title>\n<path fill=\"none\" stroke=\"#000000\" d=\"M132.3986,-72.937C135.593,-64.4186 139.529,-53.9227 143.1018,-44.3952\"/>\n<polygon fill=\"#000000\" stroke=\"#000000\" points=\"146.4132,-45.5328 146.6473,-34.9405 139.8589,-43.0749 146.4132,-45.5328\"/>\n</g>\n<!-- G&#45;&gt;H -->\n<g id=\"edge8\" class=\"edge\">\n<title>G&#45;&gt;H</title>\n<path fill=\"none\" stroke=\"#000000\" d=\"M173.6014,-72.937C170.407,-64.4186 166.471,-53.9227 162.8982,-44.3952\"/>\n<polygon fill=\"#000000\" stroke=\"#000000\" points=\"166.1411,-43.0749 159.3527,-34.9405 159.5868,-45.5328 166.1411,-43.0749\"/>\n</g>\n</g>\n</svg>\n"
          },
          "metadata": {
            "tags": []
          },
          "execution_count": 18
        }
      ]
    },
    {
      "cell_type": "markdown",
      "metadata": {
        "id": "BCS6nvVzNnJZ",
        "colab_type": "text"
      },
      "source": [
        "### Breadth First Search Demostration"
      ]
    },
    {
      "cell_type": "code",
      "metadata": {
        "id": "azRQWYNp24zi",
        "colab_type": "code",
        "colab": {
          "base_uri": "https://localhost:8080/",
          "height": 52
        },
        "outputId": "8185b7da-34a6-4ee2-d3f4-3ac2e90cd654"
      },
      "source": [
        "bfs_result = BreadthFirstSearch(G,\"A\")\n",
        "print(\"Result \",bfs_result)"
      ],
      "execution_count": 19,
      "outputs": [
        {
          "output_type": "stream",
          "text": [
            "-------- BREADTH FIRST SEARCH --------\n",
            "Result  ['A', 'B', 'C', 'D', 'E', 'F', 'G', 'H']\n"
          ],
          "name": "stdout"
        }
      ]
    },
    {
      "cell_type": "code",
      "metadata": {
        "id": "QECSNRP1N6cY",
        "colab_type": "code",
        "colab": {
          "base_uri": "https://localhost:8080/",
          "height": 278
        },
        "outputId": "e3d6f2d0-6742-473a-ec29-d30c346fcef7"
      },
      "source": [
        "bfs_result = BreadthFirstSearch(G,\"A\",verbose=True)\n",
        "print(\"Result \",bfs_result)"
      ],
      "execution_count": 20,
      "outputs": [
        {
          "output_type": "stream",
          "text": [
            "-------- BREADTH FIRST SEARCH --------\n",
            "+---------------+--------+----------------------+------------------------------------------+\n",
            "| Iteration No. | Vertex |     Queue State      |            Discovered Vertex             |\n",
            "+---------------+--------+----------------------+------------------------------------------+\n",
            "|       0       |        |        ['A']         |                  ['A']                   |\n",
            "|       1       |   A    |      ['B', 'C']      |             ['A', 'B', 'C']              |\n",
            "|       2       |   B    |   ['C', 'D', 'E']    |        ['A', 'B', 'C', 'D', 'E']         |\n",
            "|       3       |   C    | ['D', 'E', 'F', 'G'] |   ['A', 'B', 'C', 'D', 'E', 'F', 'G']    |\n",
            "|       4       |   D    |   ['E', 'F', 'G']    |   ['A', 'B', 'C', 'D', 'E', 'F', 'G']    |\n",
            "|       5       |   E    |      ['F', 'G']      |   ['A', 'B', 'C', 'D', 'E', 'F', 'G']    |\n",
            "|       6       |   F    |      ['G', 'H']      | ['A', 'B', 'C', 'D', 'E', 'F', 'G', 'H'] |\n",
            "|       7       |   G    |        ['H']         | ['A', 'B', 'C', 'D', 'E', 'F', 'G', 'H'] |\n",
            "|       8       |   H    |          []          | ['A', 'B', 'C', 'D', 'E', 'F', 'G', 'H'] |\n",
            "+---------------+--------+----------------------+------------------------------------------+\n",
            "Result  ['A', 'B', 'C', 'D', 'E', 'F', 'G', 'H']\n"
          ],
          "name": "stdout"
        }
      ]
    },
    {
      "cell_type": "code",
      "metadata": {
        "id": "AjGgdszCN90O",
        "colab_type": "code",
        "colab": {
          "base_uri": "https://localhost:8080/",
          "height": 260
        },
        "outputId": "f4377686-f174-4b44-b675-b7d0ee135092"
      },
      "source": [
        "bfs_result = BreadthFirstSearch(G,\"A\",search=\"E\",verbose=True)\n",
        "print(\"Result \",bfs_result)"
      ],
      "execution_count": 21,
      "outputs": [
        {
          "output_type": "stream",
          "text": [
            "-------- BREADTH FIRST SEARCH --------\n",
            "E found in 2 iteration\n",
            "E reached in 5 iteration\n",
            "+---------------+--------+----------------------+-------------------------------------+\n",
            "| Iteration No. | Vertex |     Queue State      |          Discovered Vertex          |\n",
            "+---------------+--------+----------------------+-------------------------------------+\n",
            "|       0       |        |        ['A']         |                ['A']                |\n",
            "|       1       |   A    |      ['B', 'C']      |           ['A', 'B', 'C']           |\n",
            "|       2       |   B    |   ['C', 'D', 'E']    |      ['A', 'B', 'C', 'D', 'E']      |\n",
            "|       3       |   C    | ['D', 'E', 'F', 'G'] | ['A', 'B', 'C', 'D', 'E', 'F', 'G'] |\n",
            "|       4       |   D    |   ['E', 'F', 'G']    | ['A', 'B', 'C', 'D', 'E', 'F', 'G'] |\n",
            "|       5       |   E    |      ['F', 'G']      | ['A', 'B', 'C', 'D', 'E', 'F', 'G'] |\n",
            "+---------------+--------+----------------------+-------------------------------------+\n",
            "Result  ['A', 'B', 'C', 'D', 'E']\n"
          ],
          "name": "stdout"
        }
      ]
    },
    {
      "cell_type": "markdown",
      "metadata": {
        "id": "6d7lv1ATNvp-",
        "colab_type": "text"
      },
      "source": [
        "### Depth First Search Demostration"
      ]
    },
    {
      "cell_type": "code",
      "metadata": {
        "colab_type": "code",
        "id": "R5ie4hzNOOJb",
        "colab": {
          "base_uri": "https://localhost:8080/",
          "height": 52
        },
        "outputId": "a4830795-e42a-4255-a248-b4b66c16a683"
      },
      "source": [
        "dfs_result = DepthFirstSearch(G,\"A\")\n",
        "print(\"Result \",dfs_result)"
      ],
      "execution_count": 22,
      "outputs": [
        {
          "output_type": "stream",
          "text": [
            "-------- Depth FIRST SEARCH --------\n",
            "Result  ['A', 'C', 'G', 'H', 'F', 'B', 'E', 'D']\n"
          ],
          "name": "stdout"
        }
      ]
    },
    {
      "cell_type": "code",
      "metadata": {
        "colab_type": "code",
        "id": "BFapLBrGOMMe",
        "colab": {
          "base_uri": "https://localhost:8080/",
          "height": 278
        },
        "outputId": "be80a5e8-56d0-4347-b108-addba8ff0e42"
      },
      "source": [
        "dfs_result = DepthFirstSearch(G,\"A\",verbose=True)\n",
        "print(\"Result \",dfs_result)"
      ],
      "execution_count": 23,
      "outputs": [
        {
          "output_type": "stream",
          "text": [
            "-------- Depth FIRST SEARCH --------\n",
            "+---------------+--------+-----------------+------------------------------------------+\n",
            "| Iteration No. | Vertex |   Queue State   |            Discovered Vertex             |\n",
            "+---------------+--------+-----------------+------------------------------------------+\n",
            "|       0       |        |      ['A']      |                  ['A']                   |\n",
            "|       1       |   A    |    ['B', 'C']   |             ['A', 'B', 'C']              |\n",
            "|       2       |   C    | ['B', 'F', 'G'] |        ['A', 'B', 'C', 'F', 'G']         |\n",
            "|       3       |   G    | ['B', 'F', 'H'] |      ['A', 'B', 'C', 'F', 'G', 'H']      |\n",
            "|       4       |   H    |    ['B', 'F']   |      ['A', 'B', 'C', 'F', 'G', 'H']      |\n",
            "|       5       |   F    |      ['B']      |      ['A', 'B', 'C', 'F', 'G', 'H']      |\n",
            "|       6       |   B    |    ['D', 'E']   | ['A', 'B', 'C', 'F', 'G', 'H', 'D', 'E'] |\n",
            "|       7       |   E    |      ['D']      | ['A', 'B', 'C', 'F', 'G', 'H', 'D', 'E'] |\n",
            "|       8       |   D    |        []       | ['A', 'B', 'C', 'F', 'G', 'H', 'D', 'E'] |\n",
            "+---------------+--------+-----------------+------------------------------------------+\n",
            "Result  ['A', 'C', 'G', 'H', 'F', 'B', 'E', 'D']\n"
          ],
          "name": "stdout"
        }
      ]
    },
    {
      "cell_type": "code",
      "metadata": {
        "id": "QL-UoZXTiLoK",
        "colab_type": "code",
        "colab": {
          "base_uri": "https://localhost:8080/",
          "height": 295
        },
        "outputId": "92faf9b3-3d00-427e-b8f2-7602ba368f55"
      },
      "source": [
        "dfs_result = DepthFirstSearch(G,\"A\",search=\"E\",verbose=True)\n",
        "print(\"Result \",dfs_result)"
      ],
      "execution_count": 24,
      "outputs": [
        {
          "output_type": "stream",
          "text": [
            "-------- Depth FIRST SEARCH --------\n",
            "E found in 6 iteration\n",
            "E reached in 7 iteration\n",
            "+---------------+--------+-----------------+------------------------------------------+\n",
            "| Iteration No. | Vertex |   Queue State   |            Discovered Vertex             |\n",
            "+---------------+--------+-----------------+------------------------------------------+\n",
            "|       0       |        |      ['A']      |                  ['A']                   |\n",
            "|       1       |   A    |    ['B', 'C']   |             ['A', 'B', 'C']              |\n",
            "|       2       |   C    | ['B', 'F', 'G'] |        ['A', 'B', 'C', 'F', 'G']         |\n",
            "|       3       |   G    | ['B', 'F', 'H'] |      ['A', 'B', 'C', 'F', 'G', 'H']      |\n",
            "|       4       |   H    |    ['B', 'F']   |      ['A', 'B', 'C', 'F', 'G', 'H']      |\n",
            "|       5       |   F    |      ['B']      |      ['A', 'B', 'C', 'F', 'G', 'H']      |\n",
            "|       6       |   B    |    ['D', 'E']   | ['A', 'B', 'C', 'F', 'G', 'H', 'D', 'E'] |\n",
            "|       7       |   E    |      ['D']      | ['A', 'B', 'C', 'F', 'G', 'H', 'D', 'E'] |\n",
            "+---------------+--------+-----------------+------------------------------------------+\n",
            "Result  ['A', 'C', 'G', 'H', 'F', 'B', 'E']\n"
          ],
          "name": "stdout"
        }
      ]
    }
  ]
}