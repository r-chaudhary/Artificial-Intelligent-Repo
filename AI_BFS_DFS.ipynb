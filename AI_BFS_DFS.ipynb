{
  "nbformat": 4,
  "nbformat_minor": 0,
  "metadata": {
    "colab": {
      "name": "AI_BFS_DFS.ipynb",
      "provenance": [],
      "collapsed_sections": [],
      "authorship_tag": "ABX9TyM3iPxt1v2NZKBYUvj+2me0",
      "include_colab_link": true
    },
    "kernelspec": {
      "name": "python3",
      "display_name": "Python 3"
    }
  },
  "cells": [
    {
      "cell_type": "markdown",
      "metadata": {
        "id": "view-in-github",
        "colab_type": "text"
      },
      "source": [
        "<a href=\"https://colab.research.google.com/github/r-chaudhary/Artificial-Intelligent-Repo/blob/master/AI_BFS_DFS.ipynb\" target=\"_parent\"><img src=\"https://colab.research.google.com/assets/colab-badge.svg\" alt=\"Open In Colab\"/></a>"
      ]
    },
    {
      "cell_type": "markdown",
      "metadata": {
        "id": "c64_HXLtJc64",
        "colab_type": "text"
      },
      "source": [
        "# **Aritificial Intelligence Practical**"
      ]
    },
    {
      "cell_type": "markdown",
      "metadata": {
        "id": "8_L4zp9ZIUhX",
        "colab_type": "text"
      },
      "source": [
        "Graph is a data structure where BFS and DFS techinque will be applied. Here class Graph is a graph structure to be used in evaluating searching techniques. "
      ]
    },
    {
      "cell_type": "markdown",
      "metadata": {
        "id": "1EzZpw1uJA91",
        "colab_type": "text"
      },
      "source": [
        "## Graph"
      ]
    },
    {
      "cell_type": "code",
      "metadata": {
        "id": "v8nq1ccSzt-3",
        "colab_type": "code",
        "colab": {}
      },
      "source": [
        "class Graph:\n",
        "    def __init__(self):\n",
        "        self.graph = dict()\n",
        "\n",
        "    def __len__(self):\n",
        "        edge_count = 0\n",
        "        for i in self.graph.items():\n",
        "            edge_count += len(i) \n",
        "        return len(self.graph)\n",
        "\n",
        "    def addVertex(self,vertex_name):\n",
        "        self.graph[vertex_name] = list()\n",
        "\n",
        "    def addEdge(self,from_vertex,to_vertex):\n",
        "        try:\n",
        "            #if to_vertex not in self.graph.keys():\n",
        "            self.graph[from_vertex].append(to_vertex)\n",
        "        except KeyError:\n",
        "            print(\"Error : %s vertex not found.\"%(from_vertex))\n",
        "\n",
        "    def removeVertex(self, vertex_name):\n",
        "        try:\n",
        "            self.graph.pop(vertex_name)\n",
        "            for vertex, edge_list in self.graph.items():\n",
        "                if vertex in edge_list:\n",
        "                    self.graph[veretx].remove(vertex)                    \n",
        "        except KeyError:\n",
        "            print(\"Error : %s vertex not found.\"%(vertex_name))\n",
        "    \n",
        "    def removeEdge(self, from_vertex, to_vertex):\n",
        "        if from_vertex not in self.graph.keys():\n",
        "            print(\"Error : %s vertex not found.\"%(from_vertex))\n",
        "        elif to_vertex not in self.graph.keys():\n",
        "            print(\"Error : %s vertex not found.\"%(to_vertex))\n",
        "        else:\n",
        "            self.graph[from_vertex].remove(to_vertex)\n",
        "\n"
      ],
      "execution_count": 1,
      "outputs": []
    },
    {
      "cell_type": "markdown",
      "metadata": {
        "id": "uuIUtgWNMrd6",
        "colab_type": "text"
      },
      "source": [
        "## Breadth First Search"
      ]
    },
    {
      "cell_type": "code",
      "metadata": {
        "id": "bo4IbA1o003k",
        "colab_type": "code",
        "cellView": "code",
        "colab": {}
      },
      "source": [
        "from prettytable import PrettyTable\n",
        "\n",
        "def BreadthFirstSearch(G,start_vertex,search=None,verbose=False):\n",
        "    print(\"-------- BREADTH FIRST SEARCH --------\")\n",
        "    graph = G.graph\n",
        "    discovered_vertex = list(start_vertex)\n",
        "    queue = list(start_vertex)  \n",
        "    iteration = 0\n",
        "    BFS_LIST = []\n",
        "    search_found = False\n",
        "\n",
        "    if verbose ==True:\n",
        "        table = PrettyTable()\n",
        "        table.field_names = [\"Iteration No.\",\"Vertex\",\"Queue State\",\"Discovered Vertex\"]\n",
        "        table.add_row([iteration,\"\",str(queue),str(discovered_vertex)])\n",
        "\n",
        "    while len(queue) != 0:\n",
        "        iteration += 1\n",
        "        vertex = queue.pop(0)\n",
        "        \n",
        "        BFS_LIST.append(vertex)\n",
        "        for v in graph[vertex]:\n",
        "            if v not in discovered_vertex:\n",
        "                queue.append(v)\n",
        "                discovered_vertex.append(v)\n",
        "            if (search in discovered_vertex) and (search_found is False):\n",
        "                print(\"{} found in {} iteration\".format(search,iteration))\n",
        "                search_found = True\n",
        "        if verbose == True : table.add_row([iteration,vertex,str(queue),str(discovered_vertex)]) \n",
        "\n",
        "        if search == vertex:\n",
        "            print(\"{} reached in {} iteration\".format(search,iteration))\n",
        "            if verbose == True: print(table)\n",
        "            return BFS_LIST\n",
        "    \n",
        "    if verbose == True: print(table)\n",
        "    return BFS_LIST\n"
      ],
      "execution_count": 2,
      "outputs": []
    },
    {
      "cell_type": "markdown",
      "metadata": {
        "id": "gCLY27eIMwZF",
        "colab_type": "text"
      },
      "source": [
        "## Depth First Search"
      ]
    },
    {
      "cell_type": "code",
      "metadata": {
        "id": "Qh8Z7sbczndY",
        "colab_type": "code",
        "colab": {}
      },
      "source": [
        "from prettytable import PrettyTable\n",
        "\n",
        "def DepthFirstSearch(G,start_vertex,search=None,verbose=False):\n",
        "    print(\"-------- Depth FIRST SEARCH --------\")\n",
        "    graph = G.graph\n",
        "    discovered_vertex = list(start_vertex)\n",
        "    queue = list(start_vertex)  \n",
        "    iteration = 0\n",
        "    DFS_LIST = []\n",
        "    search_found = False\n",
        "\n",
        "    if verbose ==True:\n",
        "        table = PrettyTable()\n",
        "        table.field_names = [\"Iteration No.\",\"Vertex\",\"Queue State\",\"Discovered Vertex\"]\n",
        "        table.add_row([iteration,\"\",str(queue),str(discovered_vertex)])\n",
        "\n",
        "    while len(queue) != 0:\n",
        "        iteration += 1\n",
        "        vertex = queue.pop()\n",
        "        DFS_LIST.append(vertex)\n",
        "        L = list()\n",
        "        for v in graph[vertex]:\n",
        "            if v not in discovered_vertex:\n",
        "                L.append(v)\n",
        "                discovered_vertex.append(v)\n",
        "            if (search in discovered_vertex) and (search_found is False):\n",
        "                print(\"{} found in {} iteration\".format(search,iteration))\n",
        "                search_found = True\n",
        "        queue.extend(list(set(L)))\n",
        "\n",
        "        if verbose == True : table.add_row([iteration,vertex,str(queue),str(discovered_vertex)]) \n",
        "\n",
        "        if search == vertex:\n",
        "            print(\"{} reached in {} iteration\".format(search,iteration))\n",
        "            if verbose == True: print(table)\n",
        "            return DFS_LIST\n",
        "    \n",
        "    if verbose == True: print(table)\n",
        "    return DFS_LIST"
      ],
      "execution_count": 3,
      "outputs": []
    },
    {
      "cell_type": "markdown",
      "metadata": {
        "id": "4NTnedCEM2iy",
        "colab_type": "text"
      },
      "source": [
        "## Main Program"
      ]
    },
    {
      "cell_type": "markdown",
      "metadata": {
        "id": "_inju27qNjoU",
        "colab_type": "text"
      },
      "source": [
        "### Graph Creation"
      ]
    },
    {
      "cell_type": "code",
      "metadata": {
        "id": "077Ty_6W9W5S",
        "colab_type": "code",
        "colab": {
          "base_uri": "https://localhost:8080/",
          "height": 35
        },
        "outputId": "afb5c162-a4a9-43d4-88a6-dd408bc7dd17"
      },
      "source": [
        "if __name__ == \"__main__\": \n",
        "    G = Graph()\n",
        "    G.addVertex('A')\n",
        "    G.addVertex('B')\n",
        "    G.addVertex('C')\n",
        "    G.addVertex('D')\n",
        "    G.addVertex('E')\n",
        "    G.addVertex('F')\n",
        "\n",
        "    G.addEdge('G','B')\n",
        "    G.addEdge('A','C')\n",
        "    G.addEdge('B','D')\n",
        "    G.addEdge('B','E')\n",
        "    G.addEdge('C','B')\n",
        "    G.addEdge('C','F')\n",
        "    G.addEdge('E','F')\n"
      ],
      "execution_count": 4,
      "outputs": [
        {
          "output_type": "stream",
          "text": [
            "Error : G vertex not found.\n"
          ],
          "name": "stdout"
        }
      ]
    },
    {
      "cell_type": "markdown",
      "metadata": {
        "id": "BCS6nvVzNnJZ",
        "colab_type": "text"
      },
      "source": [
        "### Breadth First Search Demostration"
      ]
    },
    {
      "cell_type": "code",
      "metadata": {
        "id": "azRQWYNp24zi",
        "colab_type": "code",
        "colab": {
          "base_uri": "https://localhost:8080/",
          "height": 54
        },
        "outputId": "472fe00d-9596-4185-d434-ab8ba4fa29b2"
      },
      "source": [
        "bfs_result = BreadthFirstSearch(G,\"A\")\n",
        "print(\"Result \",bfs_result)"
      ],
      "execution_count": 5,
      "outputs": [
        {
          "output_type": "stream",
          "text": [
            "-------- BREADTH FIRST SEARCH --------\n",
            "Result  ['A', 'C', 'B', 'F', 'D', 'E']\n"
          ],
          "name": "stdout"
        }
      ]
    },
    {
      "cell_type": "code",
      "metadata": {
        "id": "QECSNRP1N6cY",
        "colab_type": "code",
        "colab": {
          "base_uri": "https://localhost:8080/",
          "height": 254
        },
        "outputId": "c36f8f5a-d9bb-4b44-9126-8bd00f92ad70"
      },
      "source": [
        "bfs_result = BreadthFirstSearch(G,\"A\",verbose=True)\n",
        "print(\"Result \",bfs_result)"
      ],
      "execution_count": 6,
      "outputs": [
        {
          "output_type": "stream",
          "text": [
            "-------- BREADTH FIRST SEARCH --------\n",
            "+---------------+--------+-----------------+--------------------------------+\n",
            "| Iteration No. | Vertex |   Queue State   |       Discovered Vertex        |\n",
            "+---------------+--------+-----------------+--------------------------------+\n",
            "|       0       |        |      ['A']      |             ['A']              |\n",
            "|       1       |   A    |      ['C']      |           ['A', 'C']           |\n",
            "|       2       |   C    |    ['B', 'F']   |      ['A', 'C', 'B', 'F']      |\n",
            "|       3       |   B    | ['F', 'D', 'E'] | ['A', 'C', 'B', 'F', 'D', 'E'] |\n",
            "|       4       |   F    |    ['D', 'E']   | ['A', 'C', 'B', 'F', 'D', 'E'] |\n",
            "|       5       |   D    |      ['E']      | ['A', 'C', 'B', 'F', 'D', 'E'] |\n",
            "|       6       |   E    |        []       | ['A', 'C', 'B', 'F', 'D', 'E'] |\n",
            "+---------------+--------+-----------------+--------------------------------+\n",
            "Result  ['A', 'C', 'B', 'F', 'D', 'E']\n"
          ],
          "name": "stdout"
        }
      ]
    },
    {
      "cell_type": "code",
      "metadata": {
        "id": "AjGgdszCN90O",
        "colab_type": "code",
        "colab": {
          "base_uri": "https://localhost:8080/",
          "height": 290
        },
        "outputId": "8af10ea6-1fec-48ae-fd61-3e05879527a8"
      },
      "source": [
        "bfs_result = BreadthFirstSearch(G,\"A\",search=\"E\",verbose=True)\n",
        "print(\"Result \",bfs_result)"
      ],
      "execution_count": 7,
      "outputs": [
        {
          "output_type": "stream",
          "text": [
            "-------- BREADTH FIRST SEARCH --------\n",
            "E found in 3 iteration\n",
            "E reached in 6 iteration\n",
            "+---------------+--------+-----------------+--------------------------------+\n",
            "| Iteration No. | Vertex |   Queue State   |       Discovered Vertex        |\n",
            "+---------------+--------+-----------------+--------------------------------+\n",
            "|       0       |        |      ['A']      |             ['A']              |\n",
            "|       1       |   A    |      ['C']      |           ['A', 'C']           |\n",
            "|       2       |   C    |    ['B', 'F']   |      ['A', 'C', 'B', 'F']      |\n",
            "|       3       |   B    | ['F', 'D', 'E'] | ['A', 'C', 'B', 'F', 'D', 'E'] |\n",
            "|       4       |   F    |    ['D', 'E']   | ['A', 'C', 'B', 'F', 'D', 'E'] |\n",
            "|       5       |   D    |      ['E']      | ['A', 'C', 'B', 'F', 'D', 'E'] |\n",
            "|       6       |   E    |        []       | ['A', 'C', 'B', 'F', 'D', 'E'] |\n",
            "+---------------+--------+-----------------+--------------------------------+\n",
            "Result  ['A', 'C', 'B', 'F', 'D', 'E']\n"
          ],
          "name": "stdout"
        }
      ]
    },
    {
      "cell_type": "markdown",
      "metadata": {
        "id": "6d7lv1ATNvp-",
        "colab_type": "text"
      },
      "source": [
        "### Depth First Search Demostration"
      ]
    },
    {
      "cell_type": "code",
      "metadata": {
        "colab_type": "code",
        "id": "R5ie4hzNOOJb",
        "colab": {
          "base_uri": "https://localhost:8080/",
          "height": 54
        },
        "outputId": "671c5d34-cc80-40b1-c1d5-d60ec46c29d4"
      },
      "source": [
        "dfs_result = DepthFirstSearch(G,\"A\")\n",
        "print(\"Result \",dfs_result)"
      ],
      "execution_count": 8,
      "outputs": [
        {
          "output_type": "stream",
          "text": [
            "-------- Depth FIRST SEARCH --------\n",
            "Result  ['A', 'C', 'B', 'D', 'E', 'F']\n"
          ],
          "name": "stdout"
        }
      ]
    },
    {
      "cell_type": "code",
      "metadata": {
        "colab_type": "code",
        "id": "BFapLBrGOMMe",
        "colab": {
          "base_uri": "https://localhost:8080/",
          "height": 254
        },
        "outputId": "1081a56d-bada-47ca-82b4-2a99569a9963"
      },
      "source": [
        "dfs_result = DepthFirstSearch(G,\"A\",verbose=True)\n",
        "print(\"Result \",dfs_result)"
      ],
      "execution_count": 9,
      "outputs": [
        {
          "output_type": "stream",
          "text": [
            "-------- Depth FIRST SEARCH --------\n",
            "+---------------+--------+-----------------+--------------------------------+\n",
            "| Iteration No. | Vertex |   Queue State   |       Discovered Vertex        |\n",
            "+---------------+--------+-----------------+--------------------------------+\n",
            "|       0       |        |      ['A']      |             ['A']              |\n",
            "|       1       |   A    |      ['C']      |           ['A', 'C']           |\n",
            "|       2       |   C    |    ['F', 'B']   |      ['A', 'C', 'B', 'F']      |\n",
            "|       3       |   B    | ['F', 'E', 'D'] | ['A', 'C', 'B', 'F', 'D', 'E'] |\n",
            "|       4       |   D    |    ['F', 'E']   | ['A', 'C', 'B', 'F', 'D', 'E'] |\n",
            "|       5       |   E    |      ['F']      | ['A', 'C', 'B', 'F', 'D', 'E'] |\n",
            "|       6       |   F    |        []       | ['A', 'C', 'B', 'F', 'D', 'E'] |\n",
            "+---------------+--------+-----------------+--------------------------------+\n",
            "Result  ['A', 'C', 'B', 'D', 'E', 'F']\n"
          ],
          "name": "stdout"
        }
      ]
    },
    {
      "cell_type": "code",
      "metadata": {
        "id": "QL-UoZXTiLoK",
        "colab_type": "code",
        "colab": {
          "base_uri": "https://localhost:8080/",
          "height": 272
        },
        "outputId": "369f58d0-8763-4df8-fc68-3a33ffb4b943"
      },
      "source": [
        "dfs_result = DepthFirstSearch(G,\"A\",search=\"E\",verbose=True)\n",
        "print(\"Result \",dfs_result)"
      ],
      "execution_count": 10,
      "outputs": [
        {
          "output_type": "stream",
          "text": [
            "-------- Depth FIRST SEARCH --------\n",
            "E found in 3 iteration\n",
            "E reached in 5 iteration\n",
            "+---------------+--------+-----------------+--------------------------------+\n",
            "| Iteration No. | Vertex |   Queue State   |       Discovered Vertex        |\n",
            "+---------------+--------+-----------------+--------------------------------+\n",
            "|       0       |        |      ['A']      |             ['A']              |\n",
            "|       1       |   A    |      ['C']      |           ['A', 'C']           |\n",
            "|       2       |   C    |    ['F', 'B']   |      ['A', 'C', 'B', 'F']      |\n",
            "|       3       |   B    | ['F', 'E', 'D'] | ['A', 'C', 'B', 'F', 'D', 'E'] |\n",
            "|       4       |   D    |    ['F', 'E']   | ['A', 'C', 'B', 'F', 'D', 'E'] |\n",
            "|       5       |   E    |      ['F']      | ['A', 'C', 'B', 'F', 'D', 'E'] |\n",
            "+---------------+--------+-----------------+--------------------------------+\n",
            "Result  ['A', 'C', 'B', 'D', 'E']\n"
          ],
          "name": "stdout"
        }
      ]
    }
  ]
}