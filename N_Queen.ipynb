{
  "nbformat": 4,
  "nbformat_minor": 0,
  "metadata": {
    "colab": {
      "name": "N-Queen.ipynb",
      "provenance": [],
      "collapsed_sections": [],
      "authorship_tag": "ABX9TyMpTfANHpAVedNz4xAd/irQ",
      "include_colab_link": true
    },
    "kernelspec": {
      "name": "python3",
      "display_name": "Python 3"
    }
  },
  "cells": [
    {
      "cell_type": "markdown",
      "metadata": {
        "id": "view-in-github",
        "colab_type": "text"
      },
      "source": [
        "<a href=\"https://colab.research.google.com/github/r-chaudhary/Artificial-Intelligent-Repo/blob/master/N_Queen.ipynb\" target=\"_parent\"><img src=\"https://colab.research.google.com/assets/colab-badge.svg\" alt=\"Open In Colab\"/></a>"
      ]
    },
    {
      "cell_type": "markdown",
      "metadata": {
        "id": "-vNjLePFUN4_",
        "colab_type": "text"
      },
      "source": [
        "# N-Queen Problem"
      ]
    },
    {
      "cell_type": "markdown",
      "metadata": {
        "id": "VewcghtMqRFM",
        "colab_type": "text"
      },
      "source": [
        "## Eight Queen Puzzel\n",
        "\n",
        "---\n",
        "\n",
        "\n",
        "The eight queens puzzle is the problem of placing eight chess queens on an 8×8 chessboard so that no two queens threaten each other; thus, a solution requires that no two queens share the same row, column, or diagonal. The eight queens puzzle is an example of the more general n queens problem of placing n non-attacking queens on an n×n chessboard, for which solutions exist for all natural numbers n with the exception of n = 2 and n = 3."
      ]
    },
    {
      "cell_type": "markdown",
      "metadata": {
        "id": "8dPpCxoSsmFK",
        "colab_type": "text"
      },
      "source": [
        "## Eight Queen Animation\n",
        "\n",
        "\n",
        "---\n",
        "\n",
        "\n",
        "![Eight_Queen_Problem](https://drive.google.com/uc?export=view&id=120ppoUHiQ2Xs8LTlkUYjEMKsfbcfEqRw)\n",
        "\n",
        "Source : [Eight_queens_puzzle](https://en.wikipedia.org/wiki/Eight_queens_puzzle)"
      ]
    },
    {
      "cell_type": "markdown",
      "metadata": {
        "id": "lEZItkgiPyqW",
        "colab_type": "text"
      },
      "source": [
        "## Code"
      ]
    },
    {
      "cell_type": "code",
      "metadata": {
        "id": "TZNSLKvAnUBU",
        "colab_type": "code",
        "colab": {}
      },
      "source": [
        "import chess    # Used for visualizing n-queen result"
      ],
      "execution_count": 23,
      "outputs": []
    },
    {
      "cell_type": "code",
      "metadata": {
        "id": "2bw9YzrpNko1",
        "colab_type": "code",
        "colab": {}
      },
      "source": [
        "# A cell structure of chess board \n",
        "class cell:\n",
        "    def __init__(self, name):\n",
        "        self.name = name\n",
        "        self.state = \"free\"\n",
        "        self.child = []\n",
        "        self.reserve = []\n",
        "        self.parent = None\n",
        "        self.selected = False\n",
        "\n",
        "    def __str__(self):\n",
        "        return self.name"
      ],
      "execution_count": 24,
      "outputs": []
    },
    {
      "cell_type": "code",
      "metadata": {
        "id": "VF9upoxg-tBR",
        "colab_type": "code",
        "colab": {}
      },
      "source": [
        "class N_Queen:\n",
        "\n",
        "    def __init__(self):\n",
        "        # Creating Chess Board\n",
        "        self.chess_board = self.create_board()\n",
        "\n",
        "        # N-queen Solution\n",
        "        if self.n_queen() is True:\n",
        "            self.show_solution = self.display_board(self.solution)\n",
        "        else:\n",
        "            self.show_solution = None\n",
        "            print(\"Solution Not Found\")\n",
        "\n",
        "\n",
        "    def create_board(self):\n",
        "        # A chess Board of 8 x 8 cells \n",
        "\n",
        "        chess_board = []\n",
        "        for i in range(8):\n",
        "            l = []\n",
        "            for j in range(8):\n",
        "                l.append(cell(str([i,j])))\n",
        "            chess_board.append(l)\n",
        "\n",
        "        return chess_board\n",
        "\n",
        "\n",
        "    def place_queen(self, pos, parent):\n",
        "        # This method place the queen on specific positon passed by the parameter \n",
        "        # pos and block all the cells which can be threaten by queen.\n",
        "\n",
        "        # queen position\n",
        "        x = pos[0] \n",
        "        y = pos[1]\n",
        "\n",
        "        # Modifying\n",
        "        self.chess_board[x][y].state = \"queen\"\n",
        "        self.chess_board[x][y].parent = parent\n",
        "        self.chess_board[x][y].selected = True\n",
        "\n",
        "        \n",
        "        cells = []\n",
        "\n",
        "        # This loop is the calculate all the possible cell which can be  threaten \n",
        "        # by queen.\n",
        "        for i in range(1,8):\n",
        "            if x-i > -1:\n",
        "                if y-i > -1:\n",
        "                    cells.append([x-i,y-i])\n",
        "                if y+i < 8:\n",
        "                    cells.append([x-i,y+i])\n",
        "                cells.append([x-i,y])\n",
        "        \n",
        "            if x+i < 8:\n",
        "                if y-i > -1:\n",
        "                    cells.append([x+i,y-i])\n",
        "                if y+i < 8:\n",
        "                    cells.append([x+i,y+i])\n",
        "                cells.append([x+i,y])\n",
        "\n",
        "            if y-i > -1:\n",
        "                cells.append([x,y-i])\n",
        "            if y+i < 8:\n",
        "                cells.append([x,y+i])\n",
        "       \n",
        "        for i in cells:\n",
        "            if self.chess_board[i[0]][i[1]].state == \"free\":\n",
        "                self.chess_board[x][y].reserve.append([i[0],i[1]])\n",
        "                self.chess_board[i[0]][i[1]].state = \"block\"\n",
        "\n",
        "        \n",
        "        return self.chess_board[x][y]\n",
        "\n",
        "\n",
        "    def remove_queen(self, pos):\n",
        "        # This methods removes the queen from the specific postion and free the \n",
        "        # block cells\n",
        "\n",
        "        x = pos[0]\n",
        "        y = pos[1]\n",
        "\n",
        "        for i in self.chess_board[x][y].reserve:\n",
        "            self.chess_board[i[0]][i[1]].state = \"free\"\n",
        "        for i in self.chess_board[x][y].child:\n",
        "            self.chess_board[i[0]][i[1]].state = \"free\"\n",
        "        \n",
        "        self.chess_board[x][y].selected = False\n",
        "        self.chess_board[x][y].parent = None\n",
        "        self.chess_board[x][y].reserve = []\n",
        "        self.chess_board[x][y].child = [] \n",
        "\n",
        "\n",
        "    def reconstruct_queen(self, cell):\n",
        "        # This methods reconstructs the path to and return the solution\n",
        "        # This method invokes when last queen means nth queen placed without\n",
        "        # threaten any other queen. This is like a stack representation here\n",
        "        # the cell appends the parent cell it reaches source and then the list\n",
        "        # is solution containing n cells.\n",
        "         \n",
        "        sol = []\n",
        "        sol.append(cell)    \n",
        "        parent = self.chess_board[cell[0]][cell[1]].parent \n",
        "        sol.append(parent)\n",
        "\n",
        "        while True:\n",
        "            cell = parent\n",
        "            parent = self.chess_board[cell[0]][cell[1]].parent \n",
        "            if parent == None:\n",
        "                return sol\n",
        "            sol.append(parent)\n",
        "\n",
        "\n",
        "    def n_queen(self):\n",
        "        # This method computes the n queen \n",
        "        # here it start from coord 0 , 0 of the chess board\n",
        "\n",
        "\n",
        "        # start x and y\n",
        "        x = 0\n",
        "        y = 0\n",
        "        parent = None\n",
        "        current = None\n",
        "\n",
        "        # The loop continues to run till it dosen't find the result or reaches to last cell \n",
        "        while y < 8:\n",
        "            current = [x,y]\n",
        "            self.place_queen(current,parent)\n",
        "\n",
        "            depth = 0\n",
        "            while depth != 7:\n",
        "\n",
        "                found = False\n",
        "                \n",
        "                parent = current\n",
        "\n",
        "                for i in range(8):\n",
        "                    if parent[0]+1 >= 8:\n",
        "                        self.solution = self.reconstruct_queen(parent)\n",
        "                        return True\n",
        "\n",
        "                    if self.chess_board[parent[0]+1][i].state == \"free\" and found == False:\n",
        "                        found = True\n",
        "                        current = [parent[0]+1,i]\n",
        "                        self.place_queen(current,parent)\n",
        "                        self.chess_board[parent[0]][parent[1]].child.append([current[0],current[1]])\n",
        "                        \n",
        "\n",
        "                if found == False:\n",
        "                    curr_parent = self.chess_board[current[0]][current[1]].parent\n",
        "                    self.remove_queen(current)\n",
        "                    current = curr_parent\n",
        "                    depth -= 2\n",
        "\n",
        "                depth += 1        \n",
        "\n",
        "            y += 1\n",
        "\n",
        "        return False\n",
        "\n",
        "\n",
        "    def display_board(self, result):\n",
        "        # This methods visualize the solution of n-queens \n",
        "        # It uses py-chess module to do task\n",
        "        \n",
        "        s = [0,0,0,0,0,0,0,0]\n",
        "        for i in result:\n",
        "            x = i[0]\n",
        "            y = i[1]\n",
        "            if y-1 < 0:\n",
        "                s[x] = 'q'+str(8-y-1)\n",
        "            elif 8-y-1 == 0:\n",
        "                s[x] = str(y)+'q'\n",
        "            else:\n",
        "                s[x] = str(y)+'q'+str(8-y-1)\n",
        "\n",
        "        chess_str = \"/\".join(s)+\" w KQkq - 3 7\"\n",
        "        board = chess.Board(chess_str)\n",
        "        return board\n",
        "\n"
      ],
      "execution_count": 25,
      "outputs": []
    },
    {
      "cell_type": "markdown",
      "metadata": {
        "id": "ub_5fBvTP5Cf",
        "colab_type": "text"
      },
      "source": [
        "## Output"
      ]
    },
    {
      "cell_type": "code",
      "metadata": {
        "id": "DJl2e3eAOUnf",
        "colab_type": "code",
        "colab": {
          "base_uri": "https://localhost:8080/",
          "height": 421
        },
        "outputId": "e5ece54f-db36-486a-a7e9-e34d955268c3"
      },
      "source": [
        "nqueen = N_Queen()\n",
        "nqueen.show_solution"
      ],
      "execution_count": 26,
      "outputs": [
        {
          "output_type": "execute_result",
          "data": {
            "text/plain": [
              "Board('q7/5q2/7q/2q5/6q1/3q4/1q6/4q3 w - - 3 7')"
            ],
            "image/svg+xml": "<svg height=\"400\" version=\"1.1\" viewBox=\"0 0 400 400\" width=\"400\" xmlns=\"http://www.w3.org/2000/svg\" xmlns:xlink=\"http://www.w3.org/1999/xlink\"><defs><g class=\"black queen\" fill=\"#000\" fill-rule=\"evenodd\" id=\"black-queen\" stroke=\"#000\" stroke-linecap=\"round\" stroke-linejoin=\"round\" stroke-width=\"1.5\"><g fill=\"#000\" stroke=\"none\"><circle cx=\"6\" cy=\"12\" r=\"2.75\" /><circle cx=\"14\" cy=\"9\" r=\"2.75\" /><circle cx=\"22.5\" cy=\"8\" r=\"2.75\" /><circle cx=\"31\" cy=\"9\" r=\"2.75\" /><circle cx=\"39\" cy=\"12\" r=\"2.75\" /></g><path d=\"M9 26c8.5-1.5 21-1.5 27 0l2.5-12.5L31 25l-.3-14.1-5.2 13.6-3-14.5-3 14.5-5.2-13.6L14 25 6.5 13.5 9 26zM9 26c0 2 1.5 2 2.5 4 1 1.5 1 1 .5 3.5-1.5 1-1.5 2.5-1.5 2.5-1.5 1.5.5 2.5.5 2.5 6.5 1 16.5 1 23 0 0 0 1.5-1 0-2.5 0 0 .5-1.5-1-2.5-.5-2.5-.5-2 .5-3.5 1-2 2.5-2 2.5-4-8.5-1.5-18.5-1.5-27 0z\" stroke-linecap=\"butt\" /><path d=\"M11 38.5a35 35 1 0 0 23 0\" fill=\"none\" stroke-linecap=\"butt\" /><path d=\"M11 29a35 35 1 0 1 23 0M12.5 31.5h20M11.5 34.5a35 35 1 0 0 22 0M10.5 37.5a35 35 1 0 0 24 0\" fill=\"none\" stroke=\"#fff\" /></g></defs><rect class=\"square dark a1\" fill=\"#d18b47\" height=\"45\" stroke=\"none\" width=\"45\" x=\"20\" y=\"335\" /><rect class=\"square light b1\" fill=\"#ffce9e\" height=\"45\" stroke=\"none\" width=\"45\" x=\"65\" y=\"335\" /><rect class=\"square dark c1\" fill=\"#d18b47\" height=\"45\" stroke=\"none\" width=\"45\" x=\"110\" y=\"335\" /><rect class=\"square light d1\" fill=\"#ffce9e\" height=\"45\" stroke=\"none\" width=\"45\" x=\"155\" y=\"335\" /><rect class=\"square dark e1\" fill=\"#d18b47\" height=\"45\" stroke=\"none\" width=\"45\" x=\"200\" y=\"335\" /><use transform=\"translate(200, 335)\" xlink:href=\"#black-queen\" /><rect class=\"square light f1\" fill=\"#ffce9e\" height=\"45\" stroke=\"none\" width=\"45\" x=\"245\" y=\"335\" /><rect class=\"square dark g1\" fill=\"#d18b47\" height=\"45\" stroke=\"none\" width=\"45\" x=\"290\" y=\"335\" /><rect class=\"square light h1\" fill=\"#ffce9e\" height=\"45\" stroke=\"none\" width=\"45\" x=\"335\" y=\"335\" /><rect class=\"square light a2\" fill=\"#ffce9e\" height=\"45\" stroke=\"none\" width=\"45\" x=\"20\" y=\"290\" /><rect class=\"square dark b2\" fill=\"#d18b47\" height=\"45\" stroke=\"none\" width=\"45\" x=\"65\" y=\"290\" /><use transform=\"translate(65, 290)\" xlink:href=\"#black-queen\" /><rect class=\"square light c2\" fill=\"#ffce9e\" height=\"45\" stroke=\"none\" width=\"45\" x=\"110\" y=\"290\" /><rect class=\"square dark d2\" fill=\"#d18b47\" height=\"45\" stroke=\"none\" width=\"45\" x=\"155\" y=\"290\" /><rect class=\"square light e2\" fill=\"#ffce9e\" height=\"45\" stroke=\"none\" width=\"45\" x=\"200\" y=\"290\" /><rect class=\"square dark f2\" fill=\"#d18b47\" height=\"45\" stroke=\"none\" width=\"45\" x=\"245\" y=\"290\" /><rect class=\"square light g2\" fill=\"#ffce9e\" height=\"45\" stroke=\"none\" width=\"45\" x=\"290\" y=\"290\" /><rect class=\"square dark h2\" fill=\"#d18b47\" height=\"45\" stroke=\"none\" width=\"45\" x=\"335\" y=\"290\" /><rect class=\"square dark a3\" fill=\"#d18b47\" height=\"45\" stroke=\"none\" width=\"45\" x=\"20\" y=\"245\" /><rect class=\"square light b3\" fill=\"#ffce9e\" height=\"45\" stroke=\"none\" width=\"45\" x=\"65\" y=\"245\" /><rect class=\"square dark c3\" fill=\"#d18b47\" height=\"45\" stroke=\"none\" width=\"45\" x=\"110\" y=\"245\" /><rect class=\"square light d3\" fill=\"#ffce9e\" height=\"45\" stroke=\"none\" width=\"45\" x=\"155\" y=\"245\" /><use transform=\"translate(155, 245)\" xlink:href=\"#black-queen\" /><rect class=\"square dark e3\" fill=\"#d18b47\" height=\"45\" stroke=\"none\" width=\"45\" x=\"200\" y=\"245\" /><rect class=\"square light f3\" fill=\"#ffce9e\" height=\"45\" stroke=\"none\" width=\"45\" x=\"245\" y=\"245\" /><rect class=\"square dark g3\" fill=\"#d18b47\" height=\"45\" stroke=\"none\" width=\"45\" x=\"290\" y=\"245\" /><rect class=\"square light h3\" fill=\"#ffce9e\" height=\"45\" stroke=\"none\" width=\"45\" x=\"335\" y=\"245\" /><rect class=\"square light a4\" fill=\"#ffce9e\" height=\"45\" stroke=\"none\" width=\"45\" x=\"20\" y=\"200\" /><rect class=\"square dark b4\" fill=\"#d18b47\" height=\"45\" stroke=\"none\" width=\"45\" x=\"65\" y=\"200\" /><rect class=\"square light c4\" fill=\"#ffce9e\" height=\"45\" stroke=\"none\" width=\"45\" x=\"110\" y=\"200\" /><rect class=\"square dark d4\" fill=\"#d18b47\" height=\"45\" stroke=\"none\" width=\"45\" x=\"155\" y=\"200\" /><rect class=\"square light e4\" fill=\"#ffce9e\" height=\"45\" stroke=\"none\" width=\"45\" x=\"200\" y=\"200\" /><rect class=\"square dark f4\" fill=\"#d18b47\" height=\"45\" stroke=\"none\" width=\"45\" x=\"245\" y=\"200\" /><rect class=\"square light g4\" fill=\"#ffce9e\" height=\"45\" stroke=\"none\" width=\"45\" x=\"290\" y=\"200\" /><use transform=\"translate(290, 200)\" xlink:href=\"#black-queen\" /><rect class=\"square dark h4\" fill=\"#d18b47\" height=\"45\" stroke=\"none\" width=\"45\" x=\"335\" y=\"200\" /><rect class=\"square dark a5\" fill=\"#d18b47\" height=\"45\" stroke=\"none\" width=\"45\" x=\"20\" y=\"155\" /><rect class=\"square light b5\" fill=\"#ffce9e\" height=\"45\" stroke=\"none\" width=\"45\" x=\"65\" y=\"155\" /><rect class=\"square dark c5\" fill=\"#d18b47\" height=\"45\" stroke=\"none\" width=\"45\" x=\"110\" y=\"155\" /><use transform=\"translate(110, 155)\" xlink:href=\"#black-queen\" /><rect class=\"square light d5\" fill=\"#ffce9e\" height=\"45\" stroke=\"none\" width=\"45\" x=\"155\" y=\"155\" /><rect class=\"square dark e5\" fill=\"#d18b47\" height=\"45\" stroke=\"none\" width=\"45\" x=\"200\" y=\"155\" /><rect class=\"square light f5\" fill=\"#ffce9e\" height=\"45\" stroke=\"none\" width=\"45\" x=\"245\" y=\"155\" /><rect class=\"square dark g5\" fill=\"#d18b47\" height=\"45\" stroke=\"none\" width=\"45\" x=\"290\" y=\"155\" /><rect class=\"square light h5\" fill=\"#ffce9e\" height=\"45\" stroke=\"none\" width=\"45\" x=\"335\" y=\"155\" /><rect class=\"square light a6\" fill=\"#ffce9e\" height=\"45\" stroke=\"none\" width=\"45\" x=\"20\" y=\"110\" /><rect class=\"square dark b6\" fill=\"#d18b47\" height=\"45\" stroke=\"none\" width=\"45\" x=\"65\" y=\"110\" /><rect class=\"square light c6\" fill=\"#ffce9e\" height=\"45\" stroke=\"none\" width=\"45\" x=\"110\" y=\"110\" /><rect class=\"square dark d6\" fill=\"#d18b47\" height=\"45\" stroke=\"none\" width=\"45\" x=\"155\" y=\"110\" /><rect class=\"square light e6\" fill=\"#ffce9e\" height=\"45\" stroke=\"none\" width=\"45\" x=\"200\" y=\"110\" /><rect class=\"square dark f6\" fill=\"#d18b47\" height=\"45\" stroke=\"none\" width=\"45\" x=\"245\" y=\"110\" /><rect class=\"square light g6\" fill=\"#ffce9e\" height=\"45\" stroke=\"none\" width=\"45\" x=\"290\" y=\"110\" /><rect class=\"square dark h6\" fill=\"#d18b47\" height=\"45\" stroke=\"none\" width=\"45\" x=\"335\" y=\"110\" /><use transform=\"translate(335, 110)\" xlink:href=\"#black-queen\" /><rect class=\"square dark a7\" fill=\"#d18b47\" height=\"45\" stroke=\"none\" width=\"45\" x=\"20\" y=\"65\" /><rect class=\"square light b7\" fill=\"#ffce9e\" height=\"45\" stroke=\"none\" width=\"45\" x=\"65\" y=\"65\" /><rect class=\"square dark c7\" fill=\"#d18b47\" height=\"45\" stroke=\"none\" width=\"45\" x=\"110\" y=\"65\" /><rect class=\"square light d7\" fill=\"#ffce9e\" height=\"45\" stroke=\"none\" width=\"45\" x=\"155\" y=\"65\" /><rect class=\"square dark e7\" fill=\"#d18b47\" height=\"45\" stroke=\"none\" width=\"45\" x=\"200\" y=\"65\" /><rect class=\"square light f7\" fill=\"#ffce9e\" height=\"45\" stroke=\"none\" width=\"45\" x=\"245\" y=\"65\" /><use transform=\"translate(245, 65)\" xlink:href=\"#black-queen\" /><rect class=\"square dark g7\" fill=\"#d18b47\" height=\"45\" stroke=\"none\" width=\"45\" x=\"290\" y=\"65\" /><rect class=\"square light h7\" fill=\"#ffce9e\" height=\"45\" stroke=\"none\" width=\"45\" x=\"335\" y=\"65\" /><rect class=\"square light a8\" fill=\"#ffce9e\" height=\"45\" stroke=\"none\" width=\"45\" x=\"20\" y=\"20\" /><use transform=\"translate(20, 20)\" xlink:href=\"#black-queen\" /><rect class=\"square dark b8\" fill=\"#d18b47\" height=\"45\" stroke=\"none\" width=\"45\" x=\"65\" y=\"20\" /><rect class=\"square light c8\" fill=\"#ffce9e\" height=\"45\" stroke=\"none\" width=\"45\" x=\"110\" y=\"20\" /><rect class=\"square dark d8\" fill=\"#d18b47\" height=\"45\" stroke=\"none\" width=\"45\" x=\"155\" y=\"20\" /><rect class=\"square light e8\" fill=\"#ffce9e\" height=\"45\" stroke=\"none\" width=\"45\" x=\"200\" y=\"20\" /><rect class=\"square dark f8\" fill=\"#d18b47\" height=\"45\" stroke=\"none\" width=\"45\" x=\"245\" y=\"20\" /><rect class=\"square light g8\" fill=\"#ffce9e\" height=\"45\" stroke=\"none\" width=\"45\" x=\"290\" y=\"20\" /><rect class=\"square dark h8\" fill=\"#d18b47\" height=\"45\" stroke=\"none\" width=\"45\" x=\"335\" y=\"20\" /><text alignment-baseline=\"middle\" font-size=\"14\" text-anchor=\"middle\" x=\"42\" y=\"10\">a</text><text alignment-baseline=\"middle\" font-size=\"14\" text-anchor=\"middle\" x=\"42\" y=\"390\">a</text><text alignment-baseline=\"middle\" font-size=\"14\" text-anchor=\"middle\" x=\"87\" y=\"10\">b</text><text alignment-baseline=\"middle\" font-size=\"14\" text-anchor=\"middle\" x=\"87\" y=\"390\">b</text><text alignment-baseline=\"middle\" font-size=\"14\" text-anchor=\"middle\" x=\"132\" y=\"10\">c</text><text alignment-baseline=\"middle\" font-size=\"14\" text-anchor=\"middle\" x=\"132\" y=\"390\">c</text><text alignment-baseline=\"middle\" font-size=\"14\" text-anchor=\"middle\" x=\"177\" y=\"10\">d</text><text alignment-baseline=\"middle\" font-size=\"14\" text-anchor=\"middle\" x=\"177\" y=\"390\">d</text><text alignment-baseline=\"middle\" font-size=\"14\" text-anchor=\"middle\" x=\"222\" y=\"10\">e</text><text alignment-baseline=\"middle\" font-size=\"14\" text-anchor=\"middle\" x=\"222\" y=\"390\">e</text><text alignment-baseline=\"middle\" font-size=\"14\" text-anchor=\"middle\" x=\"267\" y=\"10\">f</text><text alignment-baseline=\"middle\" font-size=\"14\" text-anchor=\"middle\" x=\"267\" y=\"390\">f</text><text alignment-baseline=\"middle\" font-size=\"14\" text-anchor=\"middle\" x=\"312\" y=\"10\">g</text><text alignment-baseline=\"middle\" font-size=\"14\" text-anchor=\"middle\" x=\"312\" y=\"390\">g</text><text alignment-baseline=\"middle\" font-size=\"14\" text-anchor=\"middle\" x=\"357\" y=\"10\">h</text><text alignment-baseline=\"middle\" font-size=\"14\" text-anchor=\"middle\" x=\"357\" y=\"390\">h</text><text alignment-baseline=\"middle\" font-size=\"14\" text-anchor=\"middle\" x=\"10\" y=\"357\">1</text><text alignment-baseline=\"middle\" font-size=\"14\" text-anchor=\"middle\" x=\"390\" y=\"357\">1</text><text alignment-baseline=\"middle\" font-size=\"14\" text-anchor=\"middle\" x=\"10\" y=\"312\">2</text><text alignment-baseline=\"middle\" font-size=\"14\" text-anchor=\"middle\" x=\"390\" y=\"312\">2</text><text alignment-baseline=\"middle\" font-size=\"14\" text-anchor=\"middle\" x=\"10\" y=\"267\">3</text><text alignment-baseline=\"middle\" font-size=\"14\" text-anchor=\"middle\" x=\"390\" y=\"267\">3</text><text alignment-baseline=\"middle\" font-size=\"14\" text-anchor=\"middle\" x=\"10\" y=\"222\">4</text><text alignment-baseline=\"middle\" font-size=\"14\" text-anchor=\"middle\" x=\"390\" y=\"222\">4</text><text alignment-baseline=\"middle\" font-size=\"14\" text-anchor=\"middle\" x=\"10\" y=\"177\">5</text><text alignment-baseline=\"middle\" font-size=\"14\" text-anchor=\"middle\" x=\"390\" y=\"177\">5</text><text alignment-baseline=\"middle\" font-size=\"14\" text-anchor=\"middle\" x=\"10\" y=\"132\">6</text><text alignment-baseline=\"middle\" font-size=\"14\" text-anchor=\"middle\" x=\"390\" y=\"132\">6</text><text alignment-baseline=\"middle\" font-size=\"14\" text-anchor=\"middle\" x=\"10\" y=\"87\">7</text><text alignment-baseline=\"middle\" font-size=\"14\" text-anchor=\"middle\" x=\"390\" y=\"87\">7</text><text alignment-baseline=\"middle\" font-size=\"14\" text-anchor=\"middle\" x=\"10\" y=\"42\">8</text><text alignment-baseline=\"middle\" font-size=\"14\" text-anchor=\"middle\" x=\"390\" y=\"42\">8</text></svg>"
          },
          "metadata": {
            "tags": []
          },
          "execution_count": 26
        }
      ]
    }
  ]
}