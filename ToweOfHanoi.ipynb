{
  "nbformat": 4,
  "nbformat_minor": 0,
  "metadata": {
    "colab": {
      "name": "ToweOfHanoi.ipynb",
      "provenance": [],
      "collapsed_sections": [],
      "authorship_tag": "ABX9TyOPtZ2iuDkZQCuMhV1Es+SX",
      "include_colab_link": true
    },
    "kernelspec": {
      "name": "python3",
      "display_name": "Python 3"
    }
  },
  "cells": [
    {
      "cell_type": "markdown",
      "metadata": {
        "id": "view-in-github",
        "colab_type": "text"
      },
      "source": [
        "<a href=\"https://colab.research.google.com/github/r-chaudhary/Artificial-Intelligent-Repo/blob/master/ToweOfHanoi.ipynb\" target=\"_parent\"><img src=\"https://colab.research.google.com/assets/colab-badge.svg\" alt=\"Open In Colab\"/></a>"
      ]
    },
    {
      "cell_type": "markdown",
      "metadata": {
        "id": "Uc19D5VjNySS",
        "colab_type": "text"
      },
      "source": [
        "# Tower of Hanoi\n",
        "\n",
        "\n",
        "---\n",
        "\n"
      ]
    },
    {
      "cell_type": "markdown",
      "metadata": {
        "id": "X4slCpaTN1MC",
        "colab_type": "text"
      },
      "source": [
        "The Tower of Hanoi is a mathematical game or puzzle. It consists of three rods and a number of disks of different sizes, which can slide onto any rod. The puzzle starts with the disks in a neat stack in ascending order of size on one rod, the smallest at the top, thus making a conical shape. \n",
        "\n",
        "\n",
        "---\n",
        "\n"
      ]
    },
    {
      "cell_type": "markdown",
      "metadata": {
        "id": "QjhuIWBWOOHp",
        "colab_type": "text"
      },
      "source": [
        "The objective of the puzzle is to move the entire stack to another rod, obeying the following simple rules:\n",
        "\n",
        "1.   Only one disk can be moved at a time.\n",
        "2.   Each move consists of taking the upper disk from one of the stacks a placing it on top of another stack or on an empty rod.\n",
        "3.   No larger disk may be placed on top of a smaller disk.\n",
        "\n",
        "With 3 disks, the puzzle can be solved in 7 moves. The minimal number of moves required to solve a Tower of Hanoi puzzle is 2n − 1, where n is the number of disks.\n",
        "\n",
        "---\n",
        "\n"
      ]
    },
    {
      "cell_type": "markdown",
      "metadata": {
        "id": "23LTCu3LOfBB",
        "colab_type": "text"
      },
      "source": [
        "## Animation\n",
        "<br>\n",
        "\n",
        "![Towerof hanoi](https://drive.google.com/uc?export=view&id=1wXhApssCkGXDXH9B7zvolAQ02YXrXCv2)\n",
        "\n",
        "\n",
        "---\n",
        "\n",
        "Source : [Wikipedia](https://en.wikipedia.org/wiki/Tower_of_Hanoi)\n",
        "\n"
      ]
    },
    {
      "cell_type": "markdown",
      "metadata": {
        "id": "UL7IPsILP__O",
        "colab_type": "text"
      },
      "source": [
        "## Code"
      ]
    },
    {
      "cell_type": "code",
      "metadata": {
        "id": "K-FVdYvvMrXT",
        "colab_type": "code",
        "colab": {}
      },
      "source": [
        "import matplotlib.pyplot as plt"
      ],
      "execution_count": 31,
      "outputs": []
    },
    {
      "cell_type": "code",
      "metadata": {
        "id": "bl_9lEOG5y0J",
        "colab_type": "code",
        "colab": {}
      },
      "source": [
        "class Tower:\n",
        "    def __init__(self, disks):\n",
        "        self.width = (len(disks)*5*3 + 10)/3\n",
        "        self.height = len(disks)*5 + 5\n",
        "        self.tower = {\n",
        "                        \"T1\":{  \n",
        "                                \"coords\":[0, self.height], \n",
        "                                \"stack\": [disks[i] for i in range(len(disks)-1,-1,-1) ]\n",
        "                            }, \n",
        "                        \"T2\": { \n",
        "                                \"coords\":[self.width, self.height],\n",
        "                                \"stack\": []\n",
        "                            }, \n",
        "                        \"T3\": { \n",
        "                                \"coords\":[self.width*2, self.height], \n",
        "                                \"stack\": []\n",
        "                            }\n",
        "                      }\n",
        "        \n"
      ],
      "execution_count": 32,
      "outputs": []
    },
    {
      "cell_type": "code",
      "metadata": {
        "id": "F0AkvxKrkGAS",
        "colab_type": "code",
        "colab": {}
      },
      "source": [
        "class Disk:\n",
        "    def __init__(self, length, color=\"blue\"):\n",
        "        self.name = str(length)\n",
        "        self.height = 5\n",
        "        self.width = length * 5\n",
        "        self.xpos = 0\n",
        "        self.ypos = 0\n",
        "        self.color = color\n",
        "    \n",
        "    def __str__(self):\n",
        "        return self.name\n"
      ],
      "execution_count": 33,
      "outputs": []
    },
    {
      "cell_type": "code",
      "metadata": {
        "id": "iukWpRruGYbl",
        "colab_type": "code",
        "colab": {}
      },
      "source": [
        "class TowerOfHanoi:\n",
        "    def __init__(self, ndisks):\n",
        "        self.ndisks = ndisks\n",
        "        self.steps = 0\n",
        "        self.disks = []\n",
        "        for i in range(1,ndisks+1):\n",
        "            self.disks.append(Disk(i))\n",
        "        self.tower = Tower(self.disks)\n",
        "        self.compute()\n",
        "        print(\"Total Steps taken \",self.steps)\n",
        "        \n",
        "        \n",
        "    def compute(self):\n",
        "        self.draw(self.tower.tower)\n",
        "        def tower_of_hanoi(disks, source, target, middle):\n",
        "            if disks > 0:\n",
        "                tower_of_hanoi(disks-1,source,middle,target)\n",
        "\n",
        "                print(\"Move Disk [ {:<3} ] From [ {:<3} ] To [ {:<3} ]\".format(disks,\"T\"+str(source),\"T\"+str(target)))   \n",
        "                disk = self.tower.tower[\"T\"+str(source)][\"stack\"].pop()\n",
        "                self.tower.tower[\"T\"+str(target)][\"stack\"].append(disk)\n",
        "                self.draw(self.tower.tower)\n",
        "                self.steps += 1\n",
        "                tower_of_hanoi(disks-1,middle,target,source)\n",
        "\n",
        "        tower_of_hanoi(self.ndisks,1,3,2)\n",
        "\n",
        "\n",
        "    def draw(self, state):\n",
        "        plt.axes()\n",
        "        for i in state:\n",
        "            rectangle = plt.Rectangle((self.tower.tower[i][\"coords\"][0],0), self.tower.width, 5, fc='black',ec=\"red\")\n",
        "            plt.gca().add_patch(rectangle)\n",
        "            y = 6\n",
        "            for j in state[i][\"stack\"]:\n",
        "                x = (self.tower.width - j.width) / 2 + self.tower.tower[i][\"coords\"][0]\n",
        "                \n",
        "                height = j.height\n",
        "                width = j.width\n",
        "                \n",
        "                rectangle = plt.Rectangle((x,y), width, height, fc='blue',ec=\"red\")\n",
        "                plt.gca().add_patch(rectangle)\n",
        "\n",
        "                y += j.height + 0.5\n",
        "        plt.axis('scaled')\n",
        "        plt.xticks([])\n",
        "        plt.yticks([])\n",
        "        plt.show()"
      ],
      "execution_count": 60,
      "outputs": []
    },
    {
      "cell_type": "markdown",
      "metadata": {
        "id": "fQY-Dy-cQCHV",
        "colab_type": "text"
      },
      "source": [
        "## Output"
      ]
    },
    {
      "cell_type": "code",
      "metadata": {
        "id": "ru6IkL3ME4gw",
        "colab_type": "code",
        "colab": {
          "base_uri": "https://localhost:8080/",
          "height": 1000
        },
        "outputId": "9ba19d0f-8239-4c5d-f5dd-6edf3d757262"
      },
      "source": [
        "TowerOfHanoi(5)"
      ],
      "execution_count": 61,
      "outputs": [
        {
          "output_type": "display_data",
          "data": {
            "image/png": "[encoded data removed]",
            "text/plain": [
              "<Figure size 432x288 with 1 Axes>"
            ]
          },
          "metadata": {
            "tags": []
          }
        },
        {
          "output_type": "stream",
          "text": [
            "Move Disk [ 1   ] From [ T1  ] To [ T3  ]\n"
          ],
          "name": "stdout"
        },
        {
          "output_type": "display_data",
          "data": {
            "image/png": "[encoded data removed]",
            "text/plain": [
              "<Figure size 432x288 with 1 Axes>"
            ]
          },
          "metadata": {
            "tags": []
          }
        },
        {
          "output_type": "stream",
          "text": [
            "Move Disk [ 2   ] From [ T1  ] To [ T2  ]\n"
          ],
          "name": "stdout"
        },
        {
          "output_type": "display_data",
          "data": {
            "image/png": "[encoded data removed]",
            "text/plain": [
              "<Figure size 432x288 with 1 Axes>"
            ]
          },
          "metadata": {
            "tags": []
          }
        },
        {
          "output_type": "stream",
          "text": [
            "Move Disk [ 1   ] From [ T3  ] To [ T2  ]\n"
          ],
          "name": "stdout"
        },
        {
          "output_type": "display_data",
          "data": {
            "image/png": "[encoded data removed]",
            "text/plain": [
              "<Figure size 432x288 with 1 Axes>"
            ]
          },
          "metadata": {
            "tags": []
          }
        },
        {
          "output_type": "stream",
          "text": [
            "Move Disk [ 3   ] From [ T1  ] To [ T3  ]\n"
          ],
          "name": "stdout"
        },
        {
          "output_type": "display_data",
          "data": {
            "image/png": "[encoded data removed]",
            "text/plain": [
              "<Figure size 432x288 with 1 Axes>"
            ]
          },
          "metadata": {
            "tags": []
          }
        },
        {
          "output_type": "stream",
          "text": [
            "Move Disk [ 1   ] From [ T2  ] To [ T1  ]\n"
          ],
          "name": "stdout"
        },
        {
          "output_type": "display_data",
          "data": {
            "image/png": "[encoded data removed]",
            "text/plain": [
              "<Figure size 432x288 with 1 Axes>"
            ]
          },
          "metadata": {
            "tags": []
          }
        },
        {
          "output_type": "stream",
          "text": [
            "Move Disk [ 2   ] From [ T2  ] To [ T3  ]\n"
          ],
          "name": "stdout"
        },
        {
          "output_type": "display_data",
          "data": {
            "image/png": "[encoded data removed]",
            "text/plain": [
              "<Figure size 432x288 with 1 Axes>"
            ]
          },
          "metadata": {
            "tags": []
          }
        },
        {
          "output_type": "stream",
          "text": [
            "Move Disk [ 1   ] From [ T1  ] To [ T3  ]\n"
          ],
          "name": "stdout"
        },
        {
          "output_type": "display_data",
          "data": {
            "image/png": "[encoded data removed]",
            "text/plain": [
              "<Figure size 432x288 with 1 Axes>"
            ]
          },
          "metadata": {
            "tags": []
          }
        },
        {
          "output_type": "stream",
          "text": [
            "Move Disk [ 4   ] From [ T1  ] To [ T2  ]\n"
          ],
          "name": "stdout"
        },
        {
          "output_type": "display_data",
          "data": {
            "image/png": "[encoded data removed]",
            "text/plain": [
              "<Figure size 432x288 with 1 Axes>"
            ]
          },
          "metadata": {
            "tags": []
          }
        },
        {
          "output_type": "stream",
          "text": [
            "Move Disk [ 1   ] From [ T3  ] To [ T2  ]\n"
          ],
          "name": "stdout"
        },
        {
          "output_type": "display_data",
          "data": {
            "image/png": "[encoded data removed]",
            "text/plain": [
              "<Figure size 432x288 with 1 Axes>"
            ]
          },
          "metadata": {
            "tags": []
          }
        },
        {
          "output_type": "stream",
          "text": [
            "Move Disk [ 2   ] From [ T3  ] To [ T1  ]\n"
          ],
          "name": "stdout"
        },
        {
          "output_type": "display_data",
          "data": {
            "image/png": "[encoded data removed]",
            "text/plain": [
              "<Figure size 432x288 with 1 Axes>"
            ]
          },
          "metadata": {
            "tags": []
          }
        },
        {
          "output_type": "stream",
          "text": [
            "Move Disk [ 1   ] From [ T2  ] To [ T1  ]\n"
          ],
          "name": "stdout"
        },
        {
          "output_type": "display_data",
          "data": {
            "image/png": "[encoded data removed]",
            "text/plain": [
              "<Figure size 432x288 with 1 Axes>"
            ]
          },
          "metadata": {
            "tags": []
          }
        },
        {
          "output_type": "stream",
          "text": [
            "Move Disk [ 3   ] From [ T3  ] To [ T2  ]\n"
          ],
          "name": "stdout"
        },
        {
          "output_type": "display_data",
          "data": {
            "image/png": "[encoded data removed]",
            "text/plain": [
              "<Figure size 432x288 with 1 Axes>"
            ]
          },
          "metadata": {
            "tags": []
          }
        },
        {
          "output_type": "stream",
          "text": [
            "Move Disk [ 1   ] From [ T1  ] To [ T3  ]\n"
          ],
          "name": "stdout"
        },
        {
          "output_type": "display_data",
          "data": {
            "image/png": "[encoded data removed]",
            "text/plain": [
              "<Figure size 432x288 with 1 Axes>"
            ]
          },
          "metadata": {
            "tags": []
          }
        },
        {
          "output_type": "stream",
          "text": [
            "Move Disk [ 2   ] From [ T1  ] To [ T2  ]\n"
          ],
          "name": "stdout"
        },
        {
          "output_type": "display_data",
          "data": {
            "image/png": "[encoded data removed]",
            "text/plain": [
              "<Figure size 432x288 with 1 Axes>"
            ]
          },
          "metadata": {
            "tags": []
          }
        },
        {
          "output_type": "stream",
          "text": [
            "Move Disk [ 1   ] From [ T3  ] To [ T2  ]\n"
          ],
          "name": "stdout"
        },
        {
          "output_type": "display_data",
          "data": {
            "image/png": "[encoded data removed]",
            "text/plain": [
              "<Figure size 432x288 with 1 Axes>"
            ]
          },
          "metadata": {
            "tags": []
          }
        },
        {
          "output_type": "stream",
          "text": [
            "Move Disk [ 5   ] From [ T1  ] To [ T3  ]\n"
          ],
          "name": "stdout"
        },
        {
          "output_type": "display_data",
          "data": {
            "image/png": "[encoded data removed]",
            "text/plain": [
              "<Figure size 432x288 with 1 Axes>"
            ]
          },
          "metadata": {
            "tags": []
          }
        },
        {
          "output_type": "stream",
          "text": [
            "Move Disk [ 1   ] From [ T2  ] To [ T1  ]\n"
          ],
          "name": "stdout"
        },
        {
          "output_type": "display_data",
          "data": {
            "image/png": "[encoded data removed]",
            "text/plain": [
              "<Figure size 432x288 with 1 Axes>"
            ]
          },
          "metadata": {
            "tags": []
          }
        },
        {
          "output_type": "stream",
          "text": [
            "Move Disk [ 2   ] From [ T2  ] To [ T3  ]\n"
          ],
          "name": "stdout"
        },
        {
          "output_type": "display_data",
          "data": {
            "image/png": "[encoded data removed]",
            "text/plain": [
              "<Figure size 432x288 with 1 Axes>"
            ]
          },
          "metadata": {
            "tags": []
          }
        },
        {
          "output_type": "stream",
          "text": [
            "Move Disk [ 1   ] From [ T1  ] To [ T3  ]\n"
          ],
          "name": "stdout"
        },
        {
          "output_type": "display_data",
          "data": {
            "image/png": "[encoded data removed]",
            "text/plain": [
              "<Figure size 432x288 with 1 Axes>"
            ]
          },
          "metadata": {
            "tags": []
          }
        },
        {
          "output_type": "stream",
          "text": [
            "Move Disk [ 3   ] From [ T2  ] To [ T1  ]\n"
          ],
          "name": "stdout"
        },
        {
          "output_type": "display_data",
          "data": {
            "image/png": "[encoded data removed]",
            "text/plain": [
              "<Figure size 432x288 with 1 Axes>"
            ]
          },
          "metadata": {
            "tags": []
          }
        },
        {
          "output_type": "stream",
          "text": [
            "Move Disk [ 1   ] From [ T3  ] To [ T2  ]\n"
          ],
          "name": "stdout"
        },
        {
          "output_type": "display_data",
          "data": {
            "image/png": "[encoded data removed]",
            "text/plain": [
              "<Figure size 432x288 with 1 Axes>"
            ]
          },
          "metadata": {
            "tags": []
          }
        },
        {
          "output_type": "stream",
          "text": [
            "Move Disk [ 2   ] From [ T3  ] To [ T1  ]\n"
          ],
          "name": "stdout"
        },
        {
          "output_type": "display_data",
          "data": {
            "image/png": "[encoded data removed]",
            "text/plain": [
              "<Figure size 432x288 with 1 Axes>"
            ]
          },
          "metadata": {
            "tags": []
          }
        },
        {
          "output_type": "stream",
          "text": [
            "Move Disk [ 1   ] From [ T2  ] To [ T1  ]\n"
          ],
          "name": "stdout"
        },
        {
          "output_type": "display_data",
          "data": {
            "image/png": "[encoded data removed]",
            "text/plain": [
              "<Figure size 432x288 with 1 Axes>"
            ]
          },
          "metadata": {
            "tags": []
          }
        },
        {
          "output_type": "stream",
          "text": [
            "Move Disk [ 4   ] From [ T2  ] To [ T3  ]\n"
          ],
          "name": "stdout"
        },
        {
          "output_type": "display_data",
          "data": {
            "image/png": "[encoded data removed]",
            "text/plain": [
              "<Figure size 432x288 with 1 Axes>"
            ]
          },
          "metadata": {
            "tags": []
          }
        },
        {
          "output_type": "stream",
          "text": [
            "Move Disk [ 1   ] From [ T1  ] To [ T3  ]\n"
          ],
          "name": "stdout"
        },
        {
          "output_type": "display_data",
          "data": {
            "image/png": "[encoded data removed]",
            "text/plain": [
              "<Figure size 432x288 with 1 Axes>"
            ]
          },
          "metadata": {
            "tags": []
          }
        },
        {
          "output_type": "stream",
          "text": [
            "Move Disk [ 2   ] From [ T1  ] To [ T2  ]\n"
          ],
          "name": "stdout"
        },
        {
          "output_type": "display_data",
          "data": {
            "image/png": "[encoded data removed]",
            "text/plain": [
              "<Figure size 432x288 with 1 Axes>"
            ]
          },
          "metadata": {
            "tags": []
          }
        },
        {
          "output_type": "stream",
          "text": [
            "Move Disk [ 1   ] From [ T3  ] To [ T2  ]\n"
          ],
          "name": "stdout"
        },
        {
          "output_type": "display_data",
          "data": {
            "image/png": "[encoded data removed]",
            "text/plain": [
              "<Figure size 432x288 with 1 Axes>"
            ]
          },
          "metadata": {
            "tags": []
          }
        },
        {
          "output_type": "stream",
          "text": [
            "Move Disk [ 3   ] From [ T1  ] To [ T3  ]\n"
          ],
          "name": "stdout"
        },
        {
          "output_type": "display_data",
          "data": {
            "image/png": "[encoded data removed]",
            "text/plain": [
              "<Figure size 432x288 with 1 Axes>"
            ]
          },
          "metadata": {
            "tags": []
          }
        },
        {
          "output_type": "stream",
          "text": [
            "Move Disk [ 1   ] From [ T2  ] To [ T1  ]\n"
          ],
          "name": "stdout"
        },
        {
          "output_type": "display_data",
          "data": {
            "image/png": "[encoded data removed]",
            "text/plain": [
              "<Figure size 432x288 with 1 Axes>"
            ]
          },
          "metadata": {
            "tags": []
          }
        },
        {
          "output_type": "stream",
          "text": [
            "Move Disk [ 2   ] From [ T2  ] To [ T3  ]\n"
          ],
          "name": "stdout"
        },
        {
          "output_type": "display_data",
          "data": {
            "image/png": "[encoded data removed]",
            "text/plain": [
              "<Figure size 432x288 with 1 Axes>"
            ]
          },
          "metadata": {
            "tags": []
          }
        },
        {
          "output_type": "stream",
          "text": [
            "Move Disk [ 1   ] From [ T1  ] To [ T3  ]\n"
          ],
          "name": "stdout"
        },
        {
          "output_type": "display_data",
          "data": {
            "image/png": "[encoded data removed]",
            "text/plain": [
              "<Figure size 432x288 with 1 Axes>"
            ]
          },
          "metadata": {
            "tags": []
          }
        },
        {
          "output_type": "stream",
          "text": [
            "Total Steps taken  31\n"
          ],
          "name": "stdout"
        },
        {
          "output_type": "execute_result",
          "data": {
            "text/plain": [
              "<__main__.TowerOfHanoi at 0x7f32f66195c0>"
            ]
          },
          "metadata": {
            "tags": []
          },
          "execution_count": 61
        }
      ]
    },
    {
      "cell_type": "code",
      "metadata": {
        "id": "6j5wJTDTGMSg",
        "colab_type": "code",
        "colab": {}
      },
      "source": [
        ""
      ],
      "execution_count": 40,
      "outputs": []
    }
  ]
}