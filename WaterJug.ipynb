{
  "nbformat": 4,
  "nbformat_minor": 0,
  "metadata": {
    "colab": {
      "name": "WaterJug.ipynb",
      "provenance": [],
      "collapsed_sections": [],
      "authorship_tag": "ABX9TyMKN3PBNx9sPnYCHltgyhQt",
      "include_colab_link": true
    },
    "kernelspec": {
      "name": "python3",
      "display_name": "Python 3"
    }
  },
  "cells": [
    {
      "cell_type": "markdown",
      "metadata": {
        "id": "view-in-github",
        "colab_type": "text"
      },
      "source": [
        "<a href=\"https://colab.research.google.com/github/r-chaudhary/Artificial-Intelligent-Repo/blob/master/WaterJug.ipynb\" target=\"_parent\"><img src=\"https://colab.research.google.com/assets/colab-badge.svg\" alt=\"Open In Colab\"/></a>"
      ]
    },
    {
      "cell_type": "markdown",
      "metadata": {
        "id": "UnD7KeV8YZXW",
        "colab_type": "text"
      },
      "source": [
        "# Water Jug Problem\n",
        "\n",
        "\n",
        "---\n",
        "\n"
      ]
    },
    {
      "cell_type": "markdown",
      "metadata": {
        "id": "hX2HBReVZfiB",
        "colab_type": "text"
      },
      "source": [
        "Water pouring puzzles (also called water jug problems, decanting problems or measuring puzzles) are a class of puzzle involving a finite collection of water jugs of known integer capacities (in terms of a liquid measure such as liters or gallons). Initially each jug contains a known integer volume of liquid, not necessarily equal to its capacity. Puzzles of this type ask how many steps of pouring water from one jug to another (until either one jug becomes empty or the other becomes full) are needed to reach a goal state, specified in terms of the volume of liquid that must be present in some jug or jugs.\n",
        "\n",
        "Source: [Wikipedia](https://en.wikipedia.org/wiki/Water_pouring_puzzle)\n",
        "\n",
        "\n",
        "\n",
        "---\n",
        "\n",
        "\n"
      ]
    },
    {
      "cell_type": "markdown",
      "metadata": {
        "id": "enmJyNu4Z2Bf",
        "colab_type": "text"
      },
      "source": [
        "## **Rules**\n",
        "\n",
        "---\n",
        "\n",
        "\n",
        "> Either one jug becomes empty or the other becomes full\n",
        "\n"
      ]
    },
    {
      "cell_type": "markdown",
      "metadata": {
        "id": "38cB24NvdKAS",
        "colab_type": "text"
      },
      "source": [
        "## Program"
      ]
    },
    {
      "cell_type": "code",
      "metadata": {
        "id": "uqUumBHO--DR",
        "colab_type": "code",
        "colab": {}
      },
      "source": [
        "from graphviz import Digraph\n",
        "import copy"
      ],
      "execution_count": 203,
      "outputs": []
    },
    {
      "cell_type": "code",
      "metadata": {
        "id": "XH6sXxgQiJrR",
        "colab_type": "code",
        "colab": {}
      },
      "source": [
        "# Jug Object\n",
        "class Jug:\n",
        "    def __init__(self, name, max_limit, initial_water = 0):\n",
        "        self.name= name\n",
        "        self.water = initial_water\n",
        "        self.max_limit = max_limit\n",
        "\n",
        "    def __str__(self):\n",
        "        return self.name\n"
      ],
      "execution_count": 204,
      "outputs": []
    },
    {
      "cell_type": "code",
      "metadata": {
        "id": "uBTQuh16jEKB",
        "colab_type": "code",
        "colab": {}
      },
      "source": [
        "# State object stores the jug state after the valid transfers\n",
        "class State:\n",
        "    def __init__(self, name, parent, jug_state):\n",
        "        self.name = name\n",
        "        self.parent = parent\n",
        "        self.jug_state = jug_state\n",
        "        self.child = []\n"
      ],
      "execution_count": 205,
      "outputs": []
    },
    {
      "cell_type": "code",
      "metadata": {
        "id": "x23nQFrUqgOp",
        "colab_type": "code",
        "colab": {}
      },
      "source": [
        "class WaterJug:\n",
        "    def __init__(self, ):\n",
        "        self.Jugs = {}\n",
        "        self.states = {}\n",
        "\n",
        "    def create_jug(self, name, max_limit, initial_water):\n",
        "        self.Jugs[name] = Jug(name, max_limit, initial_water)\n",
        "\n",
        "    def generate_name(self, jugs):\n",
        "        # This methods make the name of a state by the status of water in jug\n",
        "        water = \"\"\n",
        "        for i in jugs.values():\n",
        "            water += str(i.water)+\",\"\n",
        "\n",
        "        return water[:-1]\n",
        "\n",
        "    def calculate(self):\n",
        "        # This method does water jug calculation\n",
        "        # It functions Depth First Search and descover all the possible state of Jug.\n",
        "\n",
        "        # Discovered List\n",
        "        discovered = []\n",
        "        # Queue List\n",
        "        queue = []\n",
        "\n",
        "        name = self.generate_name(self.Jugs)\n",
        "        self.states[name] = State(name, None, self.Jugs)\n",
        "        queue.append(name)\n",
        "\n",
        "        while queue:\n",
        "            current_state = queue.pop()\n",
        "\n",
        "            if current_state in discovered:\n",
        "                continue\n",
        "            else:\n",
        "                discovered.append(current_state)\n",
        "                \n",
        "            for main_jug in self.states[current_state].jug_state:\n",
        "                for other_jug in self.states[current_state].jug_state:\n",
        "                    if main_jug == other_jug:\n",
        "                        continue\n",
        "\n",
        "                    # Storing some values for easy working\n",
        "                    main_water = self.states[current_state].jug_state[main_jug].water\n",
        "                    other_water = self.states[current_state].jug_state[other_jug].water\n",
        "                    main_max_limit = self.states[current_state].jug_state[main_jug].max_limit\n",
        "                    other_max_limit = self.states[current_state].jug_state[other_jug].max_limit\n",
        "\n",
        "                    # If the jug is empty so we should leave it\n",
        "                    if main_water ==  0:\n",
        "                        continue\n",
        "\n",
        "                    # Calculating free space in other jug\n",
        "                    other_free =  other_max_limit - other_water\n",
        "\n",
        "                    if main_water >= other_free and other_free > 0:\n",
        "                        # Here the main jug has enough water to fill the other completly\n",
        "\n",
        "                        # Copying jug object and updating its state\n",
        "                        new_jug = copy.deepcopy(self.states[current_state].jug_state)\n",
        "                        new_jug[main_jug].water =  main_water - other_free\n",
        "                        new_jug[other_jug].water = other_free + other_water\n",
        "\n",
        "                        name = self.generate_name(new_jug)\n",
        "                        # If the new state is already discovered then skip\n",
        "                        if name in discovered:\n",
        "                            continue\n",
        "                        else:\n",
        "                            self.states[name] = State(name, current_state, new_jug)\n",
        "                            self.states[current_state].child.append(name)\n",
        "                            queue.append(name)\n",
        "\n",
        "                    elif main_water <= other_free and other_free > 0:\n",
        "                        # Here the main jug has very less water that it cann\n",
        "                        # transfer it to other jugand become empty\n",
        "\n",
        "                        new_jug = copy.deepcopy(self.states[current_state].jug_state)\n",
        "                        \n",
        "                        new_jug[main_jug].water =  0\n",
        "                        new_jug[other_jug].water = main_water + other_water\n",
        "                        name = self.generate_name(new_jug)\n",
        "                        if name in discovered:\n",
        "                            continue\n",
        "                        else:\n",
        "                            self.states[name] = State(name, current_state, new_jug)\n",
        "                            self.states[current_state].child.append(name)\n",
        "                            queue.append(name)\n",
        "\n",
        "    def draw_graph(self):\n",
        "        # This method visualize the all states of jug\n",
        "\n",
        "        styles = {\n",
        "            'node': {'shape': 'circle', 'style': 'filled', 'color': 'blue'},\n",
        "        }\n",
        "\n",
        "        G = Digraph()\n",
        "        for i in self.states:\n",
        "            G.node(i, i, styles['node'])\n",
        "            for j in self.states[i].child:\n",
        "                G.edge(i,j)\n",
        "        return G\n",
        "\n",
        "                                                        "
      ],
      "execution_count": 206,
      "outputs": []
    },
    {
      "cell_type": "markdown",
      "metadata": {
        "id": "6bzr7I0YdOwe",
        "colab_type": "text"
      },
      "source": [
        "## Output"
      ]
    },
    {
      "cell_type": "code",
      "metadata": {
        "id": "aGtErLbCsF4f",
        "colab_type": "code",
        "colab": {
          "base_uri": "https://localhost:8080/",
          "height": 761
        },
        "outputId": "88bb4701-088c-4e2d-aa28-3d419bff0fad"
      },
      "source": [
        "wj = WaterJug()\n",
        "wj.create_jug(\"J1\", 4, 4)\n",
        "wj.create_jug(\"J2\", 2, 0)\n",
        "wj.create_jug(\"J3\", 1, 0)\n",
        "wj.calculate()\n",
        "wj.draw_graph()"
      ],
      "execution_count": 207,
      "outputs": [
        {
          "output_type": "execute_result",
          "data": {
            "text/plain": [
              "<graphviz.dot.Digraph at 0x7f7bca6bb828>"
            ],
            "image/svg+xml": "<?xml version=\"1.0\" encoding=\"UTF-8\" standalone=\"no\"?>\n<!DOCTYPE svg PUBLIC \"-//W3C//DTD SVG 1.1//EN\"\n \"http://www.w3.org/Graphics/SVG/1.1/DTD/svg11.dtd\">\n<!-- Generated by graphviz version 2.40.1 (20161225.0304)\n -->\n<!-- Title: %3 Pages: 1 -->\n<svg width=\"149pt\" height=\"555pt\"\n viewBox=\"0.00 0.00 148.83 554.57\" xmlns=\"http://www.w3.org/2000/svg\" xmlns:xlink=\"http://www.w3.org/1999/xlink\">\n<g id=\"graph0\" class=\"graph\" transform=\"scale(1 1) rotate(0) translate(4 550.5675)\">\n<title>%3</title>\n<polygon fill=\"#ffffff\" stroke=\"transparent\" points=\"-4,4 -4,-550.5675 144.8257,-550.5675 144.8257,4 -4,4\"/>\n<!-- 4,0,0 -->\n<g id=\"node1\" class=\"node\">\n<title>4,0,0</title>\n<ellipse fill=\"#0000ff\" stroke=\"#0000ff\" cx=\"30.5473\" cy=\"-516.0202\" rx=\"30.5947\" ry=\"30.5947\"/>\n<text text-anchor=\"middle\" x=\"30.5473\" y=\"-512.3202\" font-family=\"Times,serif\" font-size=\"14.00\" fill=\"#000000\">4,0,0</text>\n</g>\n<!-- 2,2,0 -->\n<g id=\"node2\" class=\"node\">\n<title>2,2,0</title>\n<ellipse fill=\"#0000ff\" stroke=\"#0000ff\" cx=\"39.5473\" cy=\"-127.6419\" rx=\"30.5947\" ry=\"30.5947\"/>\n<text text-anchor=\"middle\" x=\"39.5473\" y=\"-123.9419\" font-family=\"Times,serif\" font-size=\"14.00\" fill=\"#000000\">2,2,0</text>\n</g>\n<!-- 4,0,0&#45;&gt;2,2,0 -->\n<g id=\"edge1\" class=\"edge\">\n<title>4,0,0&#45;&gt;2,2,0</title>\n<path fill=\"none\" stroke=\"#000000\" d=\"M31.261,-485.2202C32.8692,-415.8218 36.7769,-247.1931 38.5917,-168.8767\"/>\n<polygon fill=\"#000000\" stroke=\"#000000\" points=\"42.1008,-168.5235 38.8335,-158.4451 35.1027,-168.3613 42.1008,-168.5235\"/>\n</g>\n<!-- 3,0,1 -->\n<g id=\"node3\" class=\"node\">\n<title>3,0,1</title>\n<ellipse fill=\"#0000ff\" stroke=\"#0000ff\" cx=\"79.5473\" cy=\"-418.9256\" rx=\"30.5947\" ry=\"30.5947\"/>\n<text text-anchor=\"middle\" x=\"79.5473\" y=\"-415.2256\" font-family=\"Times,serif\" font-size=\"14.00\" fill=\"#000000\">3,0,1</text>\n</g>\n<!-- 4,0,0&#45;&gt;3,0,1 -->\n<g id=\"edge2\" class=\"edge\">\n<title>4,0,0&#45;&gt;3,0,1</title>\n<path fill=\"none\" stroke=\"#000000\" d=\"M44.3269,-488.7155C49.5459,-478.3739 55.5734,-466.4303 61.1503,-455.3796\"/>\n<polygon fill=\"#000000\" stroke=\"#000000\" points=\"64.3205,-456.8662 65.7013,-446.3617 58.0712,-453.7124 64.3205,-456.8662\"/>\n</g>\n<!-- 1,2,1 -->\n<g id=\"node4\" class=\"node\">\n<title>1,2,1</title>\n<ellipse fill=\"#0000ff\" stroke=\"#0000ff\" cx=\"98.5473\" cy=\"-30.5473\" rx=\"30.5947\" ry=\"30.5947\"/>\n<text text-anchor=\"middle\" x=\"98.5473\" y=\"-26.8473\" font-family=\"Times,serif\" font-size=\"14.00\" fill=\"#000000\">1,2,1</text>\n</g>\n<!-- 2,2,0&#45;&gt;1,2,1 -->\n<g id=\"edge3\" class=\"edge\">\n<title>2,2,0&#45;&gt;1,2,1</title>\n<path fill=\"none\" stroke=\"#000000\" d=\"M55.5135,-101.3667C62.2035,-90.3572 70.0791,-77.3966 77.2517,-65.5929\"/>\n<polygon fill=\"#000000\" stroke=\"#000000\" points=\"80.3663,-67.207 82.5683,-56.8435 74.3842,-63.5719 80.3663,-67.207\"/>\n</g>\n<!-- 3,0,1&#45;&gt;1,2,1 -->\n<g id=\"edge4\" class=\"edge\">\n<title>3,0,1&#45;&gt;1,2,1</title>\n<path fill=\"none\" stroke=\"#000000\" d=\"M97.5186,-393.7676C105.3446,-381.745 113.9817,-366.8465 119.5473,-352.3783 135.3344,-311.3384 134.3053,-299.0503 138.5473,-255.2837 141.1668,-228.2572 141.7943,-221.1475 138.5473,-194.1892 133.3177,-150.7703 120.5502,-102.2426 110.8349,-69.3878\"/>\n<polygon fill=\"#000000\" stroke=\"#000000\" points=\"114.159,-68.2877 107.9295,-59.7177 107.455,-70.3019 114.159,-68.2877\"/>\n</g>\n<!-- 3,1,0 -->\n<g id=\"node5\" class=\"node\">\n<title>3,1,0</title>\n<ellipse fill=\"#0000ff\" stroke=\"#0000ff\" cx=\"79.5473\" cy=\"-321.831\" rx=\"30.5947\" ry=\"30.5947\"/>\n<text text-anchor=\"middle\" x=\"79.5473\" y=\"-318.131\" font-family=\"Times,serif\" font-size=\"14.00\" fill=\"#000000\">3,1,0</text>\n</g>\n<!-- 3,0,1&#45;&gt;3,1,0 -->\n<g id=\"edge5\" class=\"edge\">\n<title>3,0,1&#45;&gt;3,1,0</title>\n<path fill=\"none\" stroke=\"#000000\" d=\"M79.5473,-388.2043C79.5473,-380.1466 79.5473,-371.3282 79.5473,-362.8265\"/>\n<polygon fill=\"#000000\" stroke=\"#000000\" points=\"83.0474,-362.6857 79.5473,-352.6858 76.0474,-362.6858 83.0474,-362.6857\"/>\n</g>\n<!-- 3,1,0&#45;&gt;2,2,0 -->\n<g id=\"edge6\" class=\"edge\">\n<title>3,1,0&#45;&gt;2,2,0</title>\n<path fill=\"none\" stroke=\"#000000\" d=\"M69.3401,-292.9517C65.5305,-281.357 61.4339,-267.7969 58.5473,-255.2837 51.8857,-226.4069 47.0356,-193.2936 43.9035,-168.0314\"/>\n<polygon fill=\"#000000\" stroke=\"#000000\" points=\"47.3745,-167.5795 42.7065,-158.0684 40.4245,-168.4146 47.3745,-167.5795\"/>\n</g>\n<!-- 2,1,1 -->\n<g id=\"node6\" class=\"node\">\n<title>2,1,1</title>\n<ellipse fill=\"#0000ff\" stroke=\"#0000ff\" cx=\"98.5473\" cy=\"-224.7364\" rx=\"30.5947\" ry=\"30.5947\"/>\n<text text-anchor=\"middle\" x=\"98.5473\" y=\"-221.0364\" font-family=\"Times,serif\" font-size=\"14.00\" fill=\"#000000\">2,1,1</text>\n</g>\n<!-- 3,1,0&#45;&gt;2,1,1 -->\n<g id=\"edge7\" class=\"edge\">\n<title>3,1,0&#45;&gt;2,1,1</title>\n<path fill=\"none\" stroke=\"#000000\" d=\"M85.4549,-291.6419C87.117,-283.1481 88.9511,-273.775 90.7072,-264.8011\"/>\n<polygon fill=\"#000000\" stroke=\"#000000\" points=\"94.1577,-265.3929 92.6434,-254.9069 87.288,-264.0486 94.1577,-265.3929\"/>\n</g>\n<!-- 2,1,1&#45;&gt;2,2,0 -->\n<g id=\"edge9\" class=\"edge\">\n<title>2,1,1&#45;&gt;2,2,0</title>\n<path fill=\"none\" stroke=\"#000000\" d=\"M82.581,-198.4613C75.8911,-187.4517 68.0155,-174.4912 60.8429,-162.6875\"/>\n<polygon fill=\"#000000\" stroke=\"#000000\" points=\"63.7104,-160.6664 55.5263,-153.9381 57.7282,-164.3016 63.7104,-160.6664\"/>\n</g>\n<!-- 2,1,1&#45;&gt;1,2,1 -->\n<g id=\"edge8\" class=\"edge\">\n<title>2,1,1&#45;&gt;1,2,1</title>\n<path fill=\"none\" stroke=\"#000000\" d=\"M98.5473,-193.9666C98.5473,-160.872 98.5473,-108.0851 98.5473,-71.4994\"/>\n<polygon fill=\"#000000\" stroke=\"#000000\" points=\"102.0474,-71.1731 98.5473,-61.1732 95.0474,-71.1732 102.0474,-71.1731\"/>\n</g>\n</g>\n</svg>\n"
          },
          "metadata": {
            "tags": []
          },
          "execution_count": 207
        }
      ]
    },
    {
      "cell_type": "code",
      "metadata": {
        "id": "qVlQMLhra251",
        "colab_type": "code",
        "colab": {}
      },
      "source": [
        ""
      ],
      "execution_count": 207,
      "outputs": []
    }
  ]
}